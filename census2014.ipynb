{
 "metadata": {
  "language_info": {
   "codemirror_mode": {
    "name": "ipython",
    "version": 3
   },
   "file_extension": ".py",
   "mimetype": "text/x-python",
   "name": "python",
   "nbconvert_exporter": "python",
   "pygments_lexer": "ipython3",
   "version": "3.8.3-final"
  },
  "orig_nbformat": 2,
  "kernelspec": {
   "name": "python3",
   "display_name": "Python 3.8.3 64-bit ('datavispip': conda)",
   "metadata": {
    "interpreter": {
     "hash": "c8ca10ecc8471ee9f0677057683f87ff47ab794b3f9adc34523f957990c0d05f"
    }
   }
  }
 },
 "nbformat": 4,
 "nbformat_minor": 2,
 "cells": [
  {
   "cell_type": "code",
   "execution_count": 45,
   "metadata": {},
   "outputs": [],
   "source": [
    "# Dependencies\n",
    "import numpy as np\n",
    "import pandas as pd\n",
    "import matplotlib.pyplot as plt\n",
    "import requests\n",
    "from census import Census\n",
    "\n",
    "# Census API Key\n",
    "from config import api_key\n",
    "a = Census(api_key, year=2014)\n",
    "b = Census(api_key, year=2015)\n",
    "c = Census(api_key, year=2016)\n",
    "d = Census(api_key, year=2017)\n",
    "e = Census(api_key, year=2018)\n",
    "f = Census(api_key, year=2019)"
   ]
  },
  {
   "cell_type": "code",
   "execution_count": 46,
   "metadata": {},
   "outputs": [],
   "source": [
    "# Median Household Income\n",
    "# \"B19013_001E\"\n",
    "# Median household income in the past 12 months\n",
    "\n",
    "# Income Per Capita\n",
    "# \"B19301_001E\"\n",
    "# Per capita income in the past 12 months\n",
    "\n",
    "# Poverty Count\n",
    "# \"B17001_002E\"\n",
    "# Number of persons whose income in the past 12 months is below the poverty level\n",
    "\n",
    "# Family Poverty Count\n",
    "# \"B17012_002E\"\n",
    "# Number of families below the poverty level in the past 12 months\n",
    "\n",
    "# Population\n",
    "# \"B01003_001E\"\n",
    "# Total population\n",
    "\n",
    "# Median Home Value\n",
    "# \"B25077_001E\"\n",
    "# average value of an owner-occupied home"
   ]
  },
  {
   "cell_type": "code",
   "execution_count": 47,
   "metadata": {},
   "outputs": [
    {
     "output_type": "stream",
     "name": "stdout",
     "text": [
      "54\n"
     ]
    },
    {
     "output_type": "execute_result",
     "data": {
      "text/plain": [
       "      Zipcode  Population  Poverty Count  Poverty Rate  Family Poverty Count  \\\n",
       "30966   95608     60729.0         8301.0         13.67                1476.0   \n",
       "30967   95610     43572.0         7174.0         16.46                1136.0   \n",
       "30970   95615      1090.0          165.0         15.14                   0.0   \n",
       "30975   95621     41474.0         5842.0         14.09                1069.0   \n",
       "30977   95624     63131.0         6848.0         10.85                1266.0   \n",
       "\n",
       "       Median Household Income  Per Capita Income  Median Home Value  \n",
       "30966                  55256.0            34606.0           304200.0  \n",
       "30967                  50536.0            25288.0           217100.0  \n",
       "30970                  59028.0            29801.0           324000.0  \n",
       "30975                  51827.0            24379.0           173700.0  \n",
       "30977                  80233.0            29752.0           270400.0  "
      ],
      "text/html": "<div>\n<style scoped>\n    .dataframe tbody tr th:only-of-type {\n        vertical-align: middle;\n    }\n\n    .dataframe tbody tr th {\n        vertical-align: top;\n    }\n\n    .dataframe thead th {\n        text-align: right;\n    }\n</style>\n<table border=\"1\" class=\"dataframe\">\n  <thead>\n    <tr style=\"text-align: right;\">\n      <th></th>\n      <th>Zipcode</th>\n      <th>Population</th>\n      <th>Poverty Count</th>\n      <th>Poverty Rate</th>\n      <th>Family Poverty Count</th>\n      <th>Median Household Income</th>\n      <th>Per Capita Income</th>\n      <th>Median Home Value</th>\n    </tr>\n  </thead>\n  <tbody>\n    <tr>\n      <th>30966</th>\n      <td>95608</td>\n      <td>60729.0</td>\n      <td>8301.0</td>\n      <td>13.67</td>\n      <td>1476.0</td>\n      <td>55256.0</td>\n      <td>34606.0</td>\n      <td>304200.0</td>\n    </tr>\n    <tr>\n      <th>30967</th>\n      <td>95610</td>\n      <td>43572.0</td>\n      <td>7174.0</td>\n      <td>16.46</td>\n      <td>1136.0</td>\n      <td>50536.0</td>\n      <td>25288.0</td>\n      <td>217100.0</td>\n    </tr>\n    <tr>\n      <th>30970</th>\n      <td>95615</td>\n      <td>1090.0</td>\n      <td>165.0</td>\n      <td>15.14</td>\n      <td>0.0</td>\n      <td>59028.0</td>\n      <td>29801.0</td>\n      <td>324000.0</td>\n    </tr>\n    <tr>\n      <th>30975</th>\n      <td>95621</td>\n      <td>41474.0</td>\n      <td>5842.0</td>\n      <td>14.09</td>\n      <td>1069.0</td>\n      <td>51827.0</td>\n      <td>24379.0</td>\n      <td>173700.0</td>\n    </tr>\n    <tr>\n      <th>30977</th>\n      <td>95624</td>\n      <td>63131.0</td>\n      <td>6848.0</td>\n      <td>10.85</td>\n      <td>1266.0</td>\n      <td>80233.0</td>\n      <td>29752.0</td>\n      <td>270400.0</td>\n    </tr>\n  </tbody>\n</table>\n</div>"
     },
     "metadata": {},
     "execution_count": 47
    }
   ],
   "source": [
    "# Run Census Search to retrieve data on all zip codes (2014)\n",
    "census_data_a = a.acs5.get((\"NAME\", \"B19013_001E\", \"B19301_001E\", \"B17001_002E\",\n",
    "                          \"B17012_002E\", \"B01003_001E\", \"B25077_001E\"), {'for': 'zip code tabulation area:*'})\n",
    "\n",
    "# Convert to DataFrame\n",
    "census_pd_a = pd.DataFrame(census_data_a)\n",
    "\n",
    "# Column Reordering\n",
    "census_pd_a = census_pd_a.rename(columns={\n",
    "    \"B01003_001E\": \"Population\", \n",
    "    \"B17001_002E\": \"Poverty Count\", \n",
    "    \"B17012_002E\": \"Family Poverty Count\",\n",
    "    \"B19013_001E\": \"Median Household Income\", \n",
    "    \"B19301_001E\": \"Per Capita Income\", \n",
    "    \"B25077_001E\": \"Median Home Value\",\n",
    "    \"NAME\": \"Name\", \"zip code tabulation area\": \"Zipcode\"})\n",
    "\n",
    "# Add in Poverty Rate (Poverty Count / Population)\n",
    "census_pd_a[\"Poverty Rate\"] = (100 * census_pd_a[\"Poverty Count\"].astype(float) / census_pd_a[\"Population\"].astype(float)).round(2)\n",
    "\n",
    "# Final DataFrame\n",
    "census_pd_a = census_pd_a[[\n",
    "    \"Zipcode\", \n",
    "    \"Population\", \n",
    "    \"Poverty Count\", \n",
    "    \"Poverty Rate\", \n",
    "    \"Family Poverty Count\", \n",
    "    \"Median Household Income\", \n",
    "    \"Per Capita Income\", \n",
    "    \"Median Home Value\"]]\n",
    "\n",
    "# Filter Zipcode: limited to Sac County\n",
    "census_sac_a = census_pd_a[census_pd_a[\"Zipcode\"].isin([\n",
    "    \"95608\", \"95610\", \"95615\", \"95621\", \"95624\", \"95626\", \"95628\", \"95630\", \"95632\", \"95638\", \n",
    "    \"95639\", \"95641\", \"95652\", \"95655\", \"95660\", \"95662\", \"95670\", \"95673\", \"95680\", \"95683\",\n",
    "    \"95690\", \"95693\", \"95742\", \"95757\", \"95758\", \"95811\", \"95814\", \"95815\", \"95816\", \"95817\",\n",
    "    \"95818\", \"95819\", \"95820\", \"95821\", \"95822\", \"95823\", \"95824\", \"95825\", \"95826\", \"95827\",\n",
    "    \"95828\", \"95829\", \"95830\", \"95831\", \"95832\", \"95833\", \"95834\", \"95835\", \"95837\", \"95838\", \n",
    "    \"95841\", \"95842\", \"95843\", \"95864\"])]\n",
    "\n",
    "# Visualize\n",
    "print(len(census_sac_a))\n",
    "census_sac_a.head()"
   ]
  },
  {
   "cell_type": "code",
   "execution_count": 48,
   "metadata": {},
   "outputs": [
    {
     "output_type": "stream",
     "name": "stdout",
     "text": [
      "54\n"
     ]
    },
    {
     "output_type": "execute_result",
     "data": {
      "text/plain": [
       "      Zipcode  Population  Poverty Count  Poverty Rate  Family Poverty Count  \\\n",
       "16984   95608     61344.0         9472.0         15.44                1584.0   \n",
       "16985   95610     44085.0         7179.0         16.28                1228.0   \n",
       "16988   95615       861.0          164.0         19.05                   0.0   \n",
       "16993   95621     42063.0         6066.0         14.42                1048.0   \n",
       "16995   95624     64225.0         6920.0         10.77                1310.0   \n",
       "\n",
       "       Median Household Income  Per Capita Income  Median Home Value  \n",
       "16984                  54407.0            35223.0           311900.0  \n",
       "16985                  50264.0            25091.0           228100.0  \n",
       "16988                  55938.0            33464.0           243400.0  \n",
       "16993                  49911.0            23856.0           178900.0  \n",
       "16995                  80595.0            29992.0           290800.0  "
      ],
      "text/html": "<div>\n<style scoped>\n    .dataframe tbody tr th:only-of-type {\n        vertical-align: middle;\n    }\n\n    .dataframe tbody tr th {\n        vertical-align: top;\n    }\n\n    .dataframe thead th {\n        text-align: right;\n    }\n</style>\n<table border=\"1\" class=\"dataframe\">\n  <thead>\n    <tr style=\"text-align: right;\">\n      <th></th>\n      <th>Zipcode</th>\n      <th>Population</th>\n      <th>Poverty Count</th>\n      <th>Poverty Rate</th>\n      <th>Family Poverty Count</th>\n      <th>Median Household Income</th>\n      <th>Per Capita Income</th>\n      <th>Median Home Value</th>\n    </tr>\n  </thead>\n  <tbody>\n    <tr>\n      <th>16984</th>\n      <td>95608</td>\n      <td>61344.0</td>\n      <td>9472.0</td>\n      <td>15.44</td>\n      <td>1584.0</td>\n      <td>54407.0</td>\n      <td>35223.0</td>\n      <td>311900.0</td>\n    </tr>\n    <tr>\n      <th>16985</th>\n      <td>95610</td>\n      <td>44085.0</td>\n      <td>7179.0</td>\n      <td>16.28</td>\n      <td>1228.0</td>\n      <td>50264.0</td>\n      <td>25091.0</td>\n      <td>228100.0</td>\n    </tr>\n    <tr>\n      <th>16988</th>\n      <td>95615</td>\n      <td>861.0</td>\n      <td>164.0</td>\n      <td>19.05</td>\n      <td>0.0</td>\n      <td>55938.0</td>\n      <td>33464.0</td>\n      <td>243400.0</td>\n    </tr>\n    <tr>\n      <th>16993</th>\n      <td>95621</td>\n      <td>42063.0</td>\n      <td>6066.0</td>\n      <td>14.42</td>\n      <td>1048.0</td>\n      <td>49911.0</td>\n      <td>23856.0</td>\n      <td>178900.0</td>\n    </tr>\n    <tr>\n      <th>16995</th>\n      <td>95624</td>\n      <td>64225.0</td>\n      <td>6920.0</td>\n      <td>10.77</td>\n      <td>1310.0</td>\n      <td>80595.0</td>\n      <td>29992.0</td>\n      <td>290800.0</td>\n    </tr>\n  </tbody>\n</table>\n</div>"
     },
     "metadata": {},
     "execution_count": 48
    }
   ],
   "source": [
    "# Run Census Search to retrieve data on all zip codes (2015)\n",
    "census_data_b = b.acs5.get((\"NAME\", \"B19013_001E\", \"B19301_001E\", \"B17001_002E\",\n",
    "                          \"B17012_002E\", \"B01003_001E\", \"B25077_001E\"), {'for': 'zip code tabulation area:*'})\n",
    "\n",
    "# Convert to DataFrame\n",
    "census_pd_b = pd.DataFrame(census_data_b)\n",
    "\n",
    "# Column Reordering\n",
    "census_pd_b = census_pd_b.rename(columns={\n",
    "    \"B01003_001E\": \"Population\", \n",
    "    \"B17001_002E\": \"Poverty Count\", \n",
    "    \"B17012_002E\": \"Family Poverty Count\",\n",
    "    \"B19013_001E\": \"Median Household Income\", \n",
    "    \"B19301_001E\": \"Per Capita Income\", \n",
    "    \"B25077_001E\": \"Median Home Value\",\n",
    "    \"NAME\": \"Name\", \"zip code tabulation area\": \"Zipcode\"})\n",
    "\n",
    "# Add in Poverty Rate (Poverty Count / Population)\n",
    "census_pd_b[\"Poverty Rate\"] = (100 * census_pd_b[\"Poverty Count\"].astype(float) / census_pd_b[\"Population\"].astype(float)).round(2)\n",
    "\n",
    "# Final DataFrame\n",
    "census_pd_b = census_pd_b[[\n",
    "    \"Zipcode\", \n",
    "    \"Population\", \n",
    "    \"Poverty Count\", \n",
    "    \"Poverty Rate\", \n",
    "    \"Family Poverty Count\", \n",
    "    \"Median Household Income\", \n",
    "    \"Per Capita Income\", \n",
    "    \"Median Home Value\"]]\n",
    "\n",
    "# Filter Zipcode: limited to Sac County\n",
    "census_sac_b = census_pd_b[census_pd_b[\"Zipcode\"].isin([\n",
    "    \"95608\", \"95610\", \"95615\", \"95621\", \"95624\", \"95626\", \"95628\", \"95630\", \"95632\", \"95638\", \n",
    "    \"95639\", \"95641\", \"95652\", \"95655\", \"95660\", \"95662\", \"95670\", \"95673\", \"95680\", \"95683\",\n",
    "    \"95690\", \"95693\", \"95742\", \"95757\", \"95758\", \"95811\", \"95814\", \"95815\", \"95816\", \"95817\",\n",
    "    \"95818\", \"95819\", \"95820\", \"95821\", \"95822\", \"95823\", \"95824\", \"95825\", \"95826\", \"95827\",\n",
    "    \"95828\", \"95829\", \"95830\", \"95831\", \"95832\", \"95833\", \"95834\", \"95835\", \"95837\", \"95838\", \n",
    "    \"95841\", \"95842\", \"95843\", \"95864\"])]\n",
    "\n",
    "\n",
    "# Visualize\n",
    "print(len(census_sac_b))\n",
    "census_sac_b.head()"
   ]
  },
  {
   "cell_type": "code",
   "execution_count": 49,
   "metadata": {},
   "outputs": [
    {
     "output_type": "stream",
     "name": "stdout",
     "text": [
      "54\n"
     ]
    },
    {
     "output_type": "execute_result",
     "data": {
      "text/plain": [
       "      Zipcode  Population  Poverty Count  Poverty Rate  Family Poverty Count  \\\n",
       "13504   95608     60199.0         8680.0         14.42                1392.0   \n",
       "13505   95610     44711.0         6767.0         15.13                1075.0   \n",
       "13508   95615       970.0          197.0         20.31                   0.0   \n",
       "13513   95621     41908.0         5809.0         13.86                 986.0   \n",
       "13515   95624     64429.0         6571.0         10.20                1310.0   \n",
       "\n",
       "       Median Household Income  Per Capita Income  Median Home Value  \n",
       "13504                  56891.0            36796.0           331500.0  \n",
       "13505                  51271.0            25814.0           248000.0  \n",
       "13508                  66080.0            26284.0           309600.0  \n",
       "13513                  52462.0            25123.0           196200.0  \n",
       "13515                  84854.0            32386.0           318900.0  "
      ],
      "text/html": "<div>\n<style scoped>\n    .dataframe tbody tr th:only-of-type {\n        vertical-align: middle;\n    }\n\n    .dataframe tbody tr th {\n        vertical-align: top;\n    }\n\n    .dataframe thead th {\n        text-align: right;\n    }\n</style>\n<table border=\"1\" class=\"dataframe\">\n  <thead>\n    <tr style=\"text-align: right;\">\n      <th></th>\n      <th>Zipcode</th>\n      <th>Population</th>\n      <th>Poverty Count</th>\n      <th>Poverty Rate</th>\n      <th>Family Poverty Count</th>\n      <th>Median Household Income</th>\n      <th>Per Capita Income</th>\n      <th>Median Home Value</th>\n    </tr>\n  </thead>\n  <tbody>\n    <tr>\n      <th>13504</th>\n      <td>95608</td>\n      <td>60199.0</td>\n      <td>8680.0</td>\n      <td>14.42</td>\n      <td>1392.0</td>\n      <td>56891.0</td>\n      <td>36796.0</td>\n      <td>331500.0</td>\n    </tr>\n    <tr>\n      <th>13505</th>\n      <td>95610</td>\n      <td>44711.0</td>\n      <td>6767.0</td>\n      <td>15.13</td>\n      <td>1075.0</td>\n      <td>51271.0</td>\n      <td>25814.0</td>\n      <td>248000.0</td>\n    </tr>\n    <tr>\n      <th>13508</th>\n      <td>95615</td>\n      <td>970.0</td>\n      <td>197.0</td>\n      <td>20.31</td>\n      <td>0.0</td>\n      <td>66080.0</td>\n      <td>26284.0</td>\n      <td>309600.0</td>\n    </tr>\n    <tr>\n      <th>13513</th>\n      <td>95621</td>\n      <td>41908.0</td>\n      <td>5809.0</td>\n      <td>13.86</td>\n      <td>986.0</td>\n      <td>52462.0</td>\n      <td>25123.0</td>\n      <td>196200.0</td>\n    </tr>\n    <tr>\n      <th>13515</th>\n      <td>95624</td>\n      <td>64429.0</td>\n      <td>6571.0</td>\n      <td>10.20</td>\n      <td>1310.0</td>\n      <td>84854.0</td>\n      <td>32386.0</td>\n      <td>318900.0</td>\n    </tr>\n  </tbody>\n</table>\n</div>"
     },
     "metadata": {},
     "execution_count": 49
    }
   ],
   "source": [
    "# Run Census Search to retrieve data on all zip codes (2016)\n",
    "census_data_c = c.acs5.get((\"NAME\", \"B19013_001E\", \"B19301_001E\", \"B17001_002E\",\n",
    "                          \"B17012_002E\", \"B01003_001E\", \"B25077_001E\"), {'for': 'zip code tabulation area:*'})\n",
    "\n",
    "# Convert to DataFrame\n",
    "census_pd_c = pd.DataFrame(census_data_c)\n",
    "\n",
    "# Column Reordering\n",
    "census_pd_c = census_pd_c.rename(columns={\n",
    "    \"B01003_001E\": \"Population\", \n",
    "    \"B17001_002E\": \"Poverty Count\", \n",
    "    \"B17012_002E\": \"Family Poverty Count\",\n",
    "    \"B19013_001E\": \"Median Household Income\", \n",
    "    \"B19301_001E\": \"Per Capita Income\", \n",
    "    \"B25077_001E\": \"Median Home Value\",\n",
    "    \"NAME\": \"Name\", \"zip code tabulation area\": \"Zipcode\"})\n",
    "\n",
    "# Add in Poverty Rate (Poverty Count / Population)\n",
    "census_pd_c[\"Poverty Rate\"] = (100 * census_pd_c[\"Poverty Count\"].astype(float) / census_pd_c[\"Population\"].astype(float)).round(2)\n",
    "\n",
    "# Final DataFrame\n",
    "census_pd_c = census_pd_c[[\n",
    "    \"Zipcode\", \n",
    "    \"Population\", \n",
    "    \"Poverty Count\", \n",
    "    \"Poverty Rate\", \n",
    "    \"Family Poverty Count\", \n",
    "    \"Median Household Income\", \n",
    "    \"Per Capita Income\", \n",
    "    \"Median Home Value\"]]\n",
    "\n",
    "# Filter Zipcode: limited to Sac County\n",
    "census_sac_c = census_pd_c[census_pd_c[\"Zipcode\"].isin([\n",
    "    \"95608\", \"95610\", \"95615\", \"95621\", \"95624\", \"95626\", \"95628\", \"95630\", \"95632\", \"95638\", \n",
    "    \"95639\", \"95641\", \"95652\", \"95655\", \"95660\", \"95662\", \"95670\", \"95673\", \"95680\", \"95683\",\n",
    "    \"95690\", \"95693\", \"95742\", \"95757\", \"95758\", \"95811\", \"95814\", \"95815\", \"95816\", \"95817\",\n",
    "    \"95818\", \"95819\", \"95820\", \"95821\", \"95822\", \"95823\", \"95824\", \"95825\", \"95826\", \"95827\",\n",
    "    \"95828\", \"95829\", \"95830\", \"95831\", \"95832\", \"95833\", \"95834\", \"95835\", \"95837\", \"95838\", \n",
    "    \"95841\", \"95842\", \"95843\", \"95864\"])]\n",
    "\n",
    "\n",
    "# Visualize\n",
    "print(len(census_sac_c))\n",
    "census_sac_c.head()"
   ]
  },
  {
   "cell_type": "code",
   "execution_count": 50,
   "metadata": {},
   "outputs": [
    {
     "output_type": "stream",
     "name": "stdout",
     "text": [
      "54\n"
     ]
    },
    {
     "output_type": "execute_result",
     "data": {
      "text/plain": [
       "      Zipcode  Population  Poverty Count  Poverty Rate  Family Poverty Count  \\\n",
       "31164   95608     61365.0         9010.0         14.68                1576.0   \n",
       "31165   95610     45429.0         6215.0         13.68                 993.0   \n",
       "31168   95615      1015.0          211.0         20.79                   9.0   \n",
       "31173   95621     41893.0         5315.0         12.69                 925.0   \n",
       "31175   95624     65447.0         6281.0          9.60                1280.0   \n",
       "\n",
       "       Median Household Income  Per Capita Income  Median Home Value  \n",
       "31164                  58433.0            37370.0           354700.0  \n",
       "31165                  54385.0            27428.0           276300.0  \n",
       "31168                  57880.0            24116.0           334000.0  \n",
       "31173                  54543.0            27349.0           221800.0  \n",
       "31175                  89075.0            33610.0           350200.0  "
      ],
      "text/html": "<div>\n<style scoped>\n    .dataframe tbody tr th:only-of-type {\n        vertical-align: middle;\n    }\n\n    .dataframe tbody tr th {\n        vertical-align: top;\n    }\n\n    .dataframe thead th {\n        text-align: right;\n    }\n</style>\n<table border=\"1\" class=\"dataframe\">\n  <thead>\n    <tr style=\"text-align: right;\">\n      <th></th>\n      <th>Zipcode</th>\n      <th>Population</th>\n      <th>Poverty Count</th>\n      <th>Poverty Rate</th>\n      <th>Family Poverty Count</th>\n      <th>Median Household Income</th>\n      <th>Per Capita Income</th>\n      <th>Median Home Value</th>\n    </tr>\n  </thead>\n  <tbody>\n    <tr>\n      <th>31164</th>\n      <td>95608</td>\n      <td>61365.0</td>\n      <td>9010.0</td>\n      <td>14.68</td>\n      <td>1576.0</td>\n      <td>58433.0</td>\n      <td>37370.0</td>\n      <td>354700.0</td>\n    </tr>\n    <tr>\n      <th>31165</th>\n      <td>95610</td>\n      <td>45429.0</td>\n      <td>6215.0</td>\n      <td>13.68</td>\n      <td>993.0</td>\n      <td>54385.0</td>\n      <td>27428.0</td>\n      <td>276300.0</td>\n    </tr>\n    <tr>\n      <th>31168</th>\n      <td>95615</td>\n      <td>1015.0</td>\n      <td>211.0</td>\n      <td>20.79</td>\n      <td>9.0</td>\n      <td>57880.0</td>\n      <td>24116.0</td>\n      <td>334000.0</td>\n    </tr>\n    <tr>\n      <th>31173</th>\n      <td>95621</td>\n      <td>41893.0</td>\n      <td>5315.0</td>\n      <td>12.69</td>\n      <td>925.0</td>\n      <td>54543.0</td>\n      <td>27349.0</td>\n      <td>221800.0</td>\n    </tr>\n    <tr>\n      <th>31175</th>\n      <td>95624</td>\n      <td>65447.0</td>\n      <td>6281.0</td>\n      <td>9.60</td>\n      <td>1280.0</td>\n      <td>89075.0</td>\n      <td>33610.0</td>\n      <td>350200.0</td>\n    </tr>\n  </tbody>\n</table>\n</div>"
     },
     "metadata": {},
     "execution_count": 50
    }
   ],
   "source": [
    "# Run Census Search to retrieve data on all zip codes (2017)\n",
    "census_data_d = d.acs5.get((\"NAME\", \"B19013_001E\", \"B19301_001E\", \"B17001_002E\",\n",
    "                          \"B17012_002E\", \"B01003_001E\", \"B25077_001E\"), {'for': 'zip code tabulation area:*'})\n",
    "\n",
    "# Convert to DataFrame\n",
    "census_pd_d = pd.DataFrame(census_data_d)\n",
    "\n",
    "# Column Reordering\n",
    "census_pd_d = census_pd_d.rename(columns={\n",
    "    \"B01003_001E\": \"Population\", \n",
    "    \"B17001_002E\": \"Poverty Count\", \n",
    "    \"B17012_002E\": \"Family Poverty Count\",\n",
    "    \"B19013_001E\": \"Median Household Income\", \n",
    "    \"B19301_001E\": \"Per Capita Income\", \n",
    "    \"B25077_001E\": \"Median Home Value\",\n",
    "    \"NAME\": \"Name\", \"zip code tabulation area\": \"Zipcode\"})\n",
    "\n",
    "# Add in Poverty Rate (Poverty Count / Population)\n",
    "census_pd_d[\"Poverty Rate\"] = (100 * census_pd_d[\"Poverty Count\"].astype(float) / census_pd_d[\"Population\"].astype(float)).round(2)\n",
    "\n",
    "# Final DataFrame\n",
    "census_pd_d = census_pd_d[[\n",
    "    \"Zipcode\", \n",
    "    \"Population\", \n",
    "    \"Poverty Count\", \n",
    "    \"Poverty Rate\", \n",
    "    \"Family Poverty Count\", \n",
    "    \"Median Household Income\", \n",
    "    \"Per Capita Income\", \n",
    "    \"Median Home Value\"]]\n",
    "\n",
    "# Filter Zipcode: limited to Sac County\n",
    "census_sac_d = census_pd_d[census_pd_d[\"Zipcode\"].isin([\n",
    "    \"95608\", \"95610\", \"95615\", \"95621\", \"95624\", \"95626\", \"95628\", \"95630\", \"95632\", \"95638\", \n",
    "    \"95639\", \"95641\", \"95652\", \"95655\", \"95660\", \"95662\", \"95670\", \"95673\", \"95680\", \"95683\",\n",
    "    \"95690\", \"95693\", \"95742\", \"95757\", \"95758\", \"95811\", \"95814\", \"95815\", \"95816\", \"95817\",\n",
    "    \"95818\", \"95819\", \"95820\", \"95821\", \"95822\", \"95823\", \"95824\", \"95825\", \"95826\", \"95827\",\n",
    "    \"95828\", \"95829\", \"95830\", \"95831\", \"95832\", \"95833\", \"95834\", \"95835\", \"95837\", \"95838\", \n",
    "    \"95841\", \"95842\", \"95843\", \"95864\"])]\n",
    "\n",
    "\n",
    "# Visualize\n",
    "print(len(census_sac_d))\n",
    "census_sac_d.head()"
   ]
  },
  {
   "cell_type": "code",
   "execution_count": 51,
   "metadata": {},
   "outputs": [
    {
     "output_type": "stream",
     "name": "stdout",
     "text": [
      "54\n"
     ]
    },
    {
     "output_type": "execute_result",
     "data": {
      "text/plain": [
       "      Zipcode  Population  Poverty Count  Poverty Rate  Family Poverty Count  \\\n",
       "31135   95608     61860.0         9799.0         15.84                1800.0   \n",
       "31136   95610     45995.0         5987.0         13.02                1073.0   \n",
       "31139   95615       999.0          176.0         17.62                  10.0   \n",
       "31144   95621     41757.0         4450.0         10.66                 755.0   \n",
       "31146   95624     65742.0         6349.0          9.66                1275.0   \n",
       "\n",
       "       Median Household Income  Per Capita Income  Median Home Value  \n",
       "31135                  61437.0            38483.0           377000.0  \n",
       "31136                  58780.0            29122.0           305800.0  \n",
       "31139                  58231.0            23963.0       -666666666.0  \n",
       "31144                  59693.0            29377.0           247900.0  \n",
       "31146                  91971.0            35090.0           375900.0  "
      ],
      "text/html": "<div>\n<style scoped>\n    .dataframe tbody tr th:only-of-type {\n        vertical-align: middle;\n    }\n\n    .dataframe tbody tr th {\n        vertical-align: top;\n    }\n\n    .dataframe thead th {\n        text-align: right;\n    }\n</style>\n<table border=\"1\" class=\"dataframe\">\n  <thead>\n    <tr style=\"text-align: right;\">\n      <th></th>\n      <th>Zipcode</th>\n      <th>Population</th>\n      <th>Poverty Count</th>\n      <th>Poverty Rate</th>\n      <th>Family Poverty Count</th>\n      <th>Median Household Income</th>\n      <th>Per Capita Income</th>\n      <th>Median Home Value</th>\n    </tr>\n  </thead>\n  <tbody>\n    <tr>\n      <th>31135</th>\n      <td>95608</td>\n      <td>61860.0</td>\n      <td>9799.0</td>\n      <td>15.84</td>\n      <td>1800.0</td>\n      <td>61437.0</td>\n      <td>38483.0</td>\n      <td>377000.0</td>\n    </tr>\n    <tr>\n      <th>31136</th>\n      <td>95610</td>\n      <td>45995.0</td>\n      <td>5987.0</td>\n      <td>13.02</td>\n      <td>1073.0</td>\n      <td>58780.0</td>\n      <td>29122.0</td>\n      <td>305800.0</td>\n    </tr>\n    <tr>\n      <th>31139</th>\n      <td>95615</td>\n      <td>999.0</td>\n      <td>176.0</td>\n      <td>17.62</td>\n      <td>10.0</td>\n      <td>58231.0</td>\n      <td>23963.0</td>\n      <td>-666666666.0</td>\n    </tr>\n    <tr>\n      <th>31144</th>\n      <td>95621</td>\n      <td>41757.0</td>\n      <td>4450.0</td>\n      <td>10.66</td>\n      <td>755.0</td>\n      <td>59693.0</td>\n      <td>29377.0</td>\n      <td>247900.0</td>\n    </tr>\n    <tr>\n      <th>31146</th>\n      <td>95624</td>\n      <td>65742.0</td>\n      <td>6349.0</td>\n      <td>9.66</td>\n      <td>1275.0</td>\n      <td>91971.0</td>\n      <td>35090.0</td>\n      <td>375900.0</td>\n    </tr>\n  </tbody>\n</table>\n</div>"
     },
     "metadata": {},
     "execution_count": 51
    }
   ],
   "source": [
    "# Run Census Search to retrieve data on all zip codes (2018)\n",
    "census_data_e = e.acs5.get((\"NAME\", \"B19013_001E\", \"B19301_001E\", \"B17001_002E\",\n",
    "                          \"B17012_002E\", \"B01003_001E\", \"B25077_001E\"), {'for': 'zip code tabulation area:*'})\n",
    "\n",
    "# Convert to DataFrame\n",
    "census_pd_e = pd.DataFrame(census_data_e)\n",
    "\n",
    "# Column Reordering\n",
    "census_pd_e = census_pd_e.rename(columns={\n",
    "    \"B01003_001E\": \"Population\", \n",
    "    \"B17001_002E\": \"Poverty Count\", \n",
    "    \"B17012_002E\": \"Family Poverty Count\",\n",
    "    \"B19013_001E\": \"Median Household Income\", \n",
    "    \"B19301_001E\": \"Per Capita Income\", \n",
    "    \"B25077_001E\": \"Median Home Value\",\n",
    "    \"NAME\": \"Name\", \"zip code tabulation area\": \"Zipcode\"})\n",
    "\n",
    "# Add in Poverty Rate (Poverty Count / Population)\n",
    "census_pd_e[\"Poverty Rate\"] = (100 * census_pd_e[\"Poverty Count\"].astype(float) / census_pd_e[\"Population\"].astype(float)).round(2)\n",
    "\n",
    "# Final DataFrame\n",
    "census_pd_e = census_pd_e[[\n",
    "    \"Zipcode\", \n",
    "    \"Population\", \n",
    "    \"Poverty Count\", \n",
    "    \"Poverty Rate\",\n",
    "    \"Family Poverty Count\", \n",
    "    \"Median Household Income\", \n",
    "    \"Per Capita Income\", \n",
    "    \"Median Home Value\"]]\n",
    "\n",
    "# Filter Zipcode: limited to Sac County\n",
    "census_sac_e = census_pd_e[census_pd_e[\"Zipcode\"].isin([\n",
    "    \"95608\", \"95610\", \"95615\", \"95621\", \"95624\", \"95626\", \"95628\", \"95630\", \"95632\", \"95638\", \n",
    "    \"95639\", \"95641\", \"95652\", \"95655\", \"95660\", \"95662\", \"95670\", \"95673\", \"95680\", \"95683\",\n",
    "    \"95690\", \"95693\", \"95742\", \"95757\", \"95758\", \"95811\", \"95814\", \"95815\", \"95816\", \"95817\",\n",
    "    \"95818\", \"95819\", \"95820\", \"95821\", \"95822\", \"95823\", \"95824\", \"95825\", \"95826\", \"95827\",\n",
    "    \"95828\", \"95829\", \"95830\", \"95831\", \"95832\", \"95833\", \"95834\", \"95835\", \"95837\", \"95838\", \n",
    "    \"95841\", \"95842\", \"95843\", \"95864\"])]\n",
    "\n",
    "\n",
    "# Visualize\n",
    "print(len(census_sac_e))\n",
    "census_sac_e.head()"
   ]
  },
  {
   "cell_type": "code",
   "execution_count": 52,
   "metadata": {},
   "outputs": [
    {
     "output_type": "error",
     "ename": "CensusException",
     "evalue": "<html><head><title>Error report</title></head><body><h1>HTTP Status 404 - /data/2019/acs/acs5</h1></body></html>",
     "traceback": [
      "\u001b[1;31m---------------------------------------------------------------------------\u001b[0m",
      "\u001b[1;31mCensusException\u001b[0m                           Traceback (most recent call last)",
      "\u001b[1;32m<ipython-input-52-42c6cf7f1788>\u001b[0m in \u001b[0;36m<module>\u001b[1;34m\u001b[0m\n\u001b[0;32m      1\u001b[0m \u001b[1;31m# Run Census Search to retrieve data on all zip codes (2019)\u001b[0m\u001b[1;33m\u001b[0m\u001b[1;33m\u001b[0m\u001b[1;33m\u001b[0m\u001b[0m\n\u001b[1;32m----> 2\u001b[1;33m census_data_f = f.acs5.get((\"NAME\", \"B19013_001E\", \"B19301_001E\", \"B17001_002E\",\n\u001b[0m\u001b[0;32m      3\u001b[0m                           \"B17012_002E\", \"B01003_001E\", \"B25077_001E\"), {'for': 'zip code tabulation area:*'})\n\u001b[0;32m      4\u001b[0m \u001b[1;33m\u001b[0m\u001b[0m\n\u001b[0;32m      5\u001b[0m \u001b[1;31m# Convert to DataFrame\u001b[0m\u001b[1;33m\u001b[0m\u001b[1;33m\u001b[0m\u001b[1;33m\u001b[0m\u001b[0m\n",
      "\u001b[1;32m~\\anaconda3\\lib\\site-packages\\census\\core.py\u001b[0m in \u001b[0;36mget\u001b[1;34m(self, *args, **kwargs)\u001b[0m\n\u001b[0;32m    296\u001b[0m         \u001b[0mself\u001b[0m\u001b[1;33m.\u001b[0m\u001b[0m_switch_endpoints\u001b[0m\u001b[1;33m(\u001b[0m\u001b[0mkwargs\u001b[0m\u001b[1;33m.\u001b[0m\u001b[0mget\u001b[0m\u001b[1;33m(\u001b[0m\u001b[1;34m'year'\u001b[0m\u001b[1;33m,\u001b[0m \u001b[0mself\u001b[0m\u001b[1;33m.\u001b[0m\u001b[0mdefault_year\u001b[0m\u001b[1;33m)\u001b[0m\u001b[1;33m)\u001b[0m\u001b[1;33m\u001b[0m\u001b[1;33m\u001b[0m\u001b[0m\n\u001b[0;32m    297\u001b[0m \u001b[1;33m\u001b[0m\u001b[0m\n\u001b[1;32m--> 298\u001b[1;33m         \u001b[1;32mreturn\u001b[0m \u001b[0msuper\u001b[0m\u001b[1;33m(\u001b[0m\u001b[0mACSClient\u001b[0m\u001b[1;33m,\u001b[0m \u001b[0mself\u001b[0m\u001b[1;33m)\u001b[0m\u001b[1;33m.\u001b[0m\u001b[0mget\u001b[0m\u001b[1;33m(\u001b[0m\u001b[1;33m*\u001b[0m\u001b[0margs\u001b[0m\u001b[1;33m,\u001b[0m \u001b[1;33m**\u001b[0m\u001b[0mkwargs\u001b[0m\u001b[1;33m)\u001b[0m\u001b[1;33m\u001b[0m\u001b[1;33m\u001b[0m\u001b[0m\n\u001b[0m\u001b[0;32m    299\u001b[0m \u001b[1;33m\u001b[0m\u001b[0m\n\u001b[0;32m    300\u001b[0m \u001b[1;32mclass\u001b[0m \u001b[0mACS5Client\u001b[0m\u001b[1;33m(\u001b[0m\u001b[0mACSClient\u001b[0m\u001b[1;33m)\u001b[0m\u001b[1;33m:\u001b[0m\u001b[1;33m\u001b[0m\u001b[1;33m\u001b[0m\u001b[0m\n",
      "\u001b[1;32m~\\anaconda3\\lib\\site-packages\\census\\core.py\u001b[0m in \u001b[0;36mget\u001b[1;34m(self, fields, geo, year, **kwargs)\u001b[0m\n\u001b[0;32m    153\u001b[0m         all_results = (self.query(fifty_fields, geo, year, **kwargs)\n\u001b[0;32m    154\u001b[0m                        for fifty_fields in chunks(fields, 50))\n\u001b[1;32m--> 155\u001b[1;33m         \u001b[0mmerged_results\u001b[0m \u001b[1;33m=\u001b[0m \u001b[1;33m[\u001b[0m\u001b[0mmerge\u001b[0m\u001b[1;33m(\u001b[0m\u001b[0mresult\u001b[0m\u001b[1;33m)\u001b[0m \u001b[1;32mfor\u001b[0m \u001b[0mresult\u001b[0m \u001b[1;32min\u001b[0m \u001b[0mzip\u001b[0m\u001b[1;33m(\u001b[0m\u001b[1;33m*\u001b[0m\u001b[0mall_results\u001b[0m\u001b[1;33m)\u001b[0m\u001b[1;33m]\u001b[0m\u001b[1;33m\u001b[0m\u001b[1;33m\u001b[0m\u001b[0m\n\u001b[0m\u001b[0;32m    156\u001b[0m \u001b[1;33m\u001b[0m\u001b[0m\n\u001b[0;32m    157\u001b[0m         \u001b[1;32mreturn\u001b[0m \u001b[0mmerged_results\u001b[0m\u001b[1;33m\u001b[0m\u001b[1;33m\u001b[0m\u001b[0m\n",
      "\u001b[1;32m~\\anaconda3\\lib\\site-packages\\census\\core.py\u001b[0m in \u001b[0;36m<genexpr>\u001b[1;34m(.0)\u001b[0m\n\u001b[0;32m    151\u001b[0m \u001b[1;33m\u001b[0m\u001b[0m\n\u001b[0;32m    152\u001b[0m     \u001b[1;32mdef\u001b[0m \u001b[0mget\u001b[0m\u001b[1;33m(\u001b[0m\u001b[0mself\u001b[0m\u001b[1;33m,\u001b[0m \u001b[0mfields\u001b[0m\u001b[1;33m,\u001b[0m \u001b[0mgeo\u001b[0m\u001b[1;33m,\u001b[0m \u001b[0myear\u001b[0m\u001b[1;33m=\u001b[0m\u001b[1;32mNone\u001b[0m\u001b[1;33m,\u001b[0m \u001b[1;33m**\u001b[0m\u001b[0mkwargs\u001b[0m\u001b[1;33m)\u001b[0m\u001b[1;33m:\u001b[0m\u001b[1;33m\u001b[0m\u001b[1;33m\u001b[0m\u001b[0m\n\u001b[1;32m--> 153\u001b[1;33m         all_results = (self.query(fifty_fields, geo, year, **kwargs)\n\u001b[0m\u001b[0;32m    154\u001b[0m                        for fifty_fields in chunks(fields, 50))\n\u001b[0;32m    155\u001b[0m         \u001b[0mmerged_results\u001b[0m \u001b[1;33m=\u001b[0m \u001b[1;33m[\u001b[0m\u001b[0mmerge\u001b[0m\u001b[1;33m(\u001b[0m\u001b[0mresult\u001b[0m\u001b[1;33m)\u001b[0m \u001b[1;32mfor\u001b[0m \u001b[0mresult\u001b[0m \u001b[1;32min\u001b[0m \u001b[0mzip\u001b[0m\u001b[1;33m(\u001b[0m\u001b[1;33m*\u001b[0m\u001b[0mall_results\u001b[0m\u001b[1;33m)\u001b[0m\u001b[1;33m]\u001b[0m\u001b[1;33m\u001b[0m\u001b[1;33m\u001b[0m\u001b[0m\n",
      "\u001b[1;32m~\\anaconda3\\lib\\site-packages\\census\\core.py\u001b[0m in \u001b[0;36mwrapper\u001b[1;34m(self, *args, **kwargs)\u001b[0m\n\u001b[0;32m     62\u001b[0m         \u001b[1;32mfor\u001b[0m \u001b[0m_\u001b[0m \u001b[1;32min\u001b[0m \u001b[0mrange\u001b[0m\u001b[1;33m(\u001b[0m\u001b[0mmax\u001b[0m\u001b[1;33m(\u001b[0m\u001b[0mself\u001b[0m\u001b[1;33m.\u001b[0m\u001b[0mretries\u001b[0m \u001b[1;33m-\u001b[0m \u001b[1;36m1\u001b[0m\u001b[1;33m,\u001b[0m \u001b[1;36m0\u001b[0m\u001b[1;33m)\u001b[0m\u001b[1;33m)\u001b[0m\u001b[1;33m:\u001b[0m\u001b[1;33m\u001b[0m\u001b[1;33m\u001b[0m\u001b[0m\n\u001b[0;32m     63\u001b[0m             \u001b[1;32mtry\u001b[0m\u001b[1;33m:\u001b[0m\u001b[1;33m\u001b[0m\u001b[1;33m\u001b[0m\u001b[0m\n\u001b[1;32m---> 64\u001b[1;33m                 \u001b[0mresult\u001b[0m \u001b[1;33m=\u001b[0m \u001b[0mfunc\u001b[0m\u001b[1;33m(\u001b[0m\u001b[0mself\u001b[0m\u001b[1;33m,\u001b[0m \u001b[1;33m*\u001b[0m\u001b[0margs\u001b[0m\u001b[1;33m,\u001b[0m \u001b[1;33m**\u001b[0m\u001b[0mkwargs\u001b[0m\u001b[1;33m)\u001b[0m\u001b[1;33m\u001b[0m\u001b[1;33m\u001b[0m\u001b[0m\n\u001b[0m\u001b[0;32m     65\u001b[0m             \u001b[1;32mexcept\u001b[0m \u001b[0mCensusException\u001b[0m \u001b[1;32mas\u001b[0m \u001b[0me\u001b[0m\u001b[1;33m:\u001b[0m\u001b[1;33m\u001b[0m\u001b[1;33m\u001b[0m\u001b[0m\n\u001b[0;32m     66\u001b[0m                 \u001b[1;32mif\u001b[0m \u001b[1;34m\"There was an error while running your query.  We've logged the error and we'll correct it ASAP.  Sorry for the inconvenience.\"\u001b[0m \u001b[1;32min\u001b[0m \u001b[0mstr\u001b[0m\u001b[1;33m(\u001b[0m\u001b[0me\u001b[0m\u001b[1;33m)\u001b[0m\u001b[1;33m:\u001b[0m\u001b[1;33m\u001b[0m\u001b[1;33m\u001b[0m\u001b[0m\n",
      "\u001b[1;32m~\\anaconda3\\lib\\site-packages\\census\\core.py\u001b[0m in \u001b[0;36mquery\u001b[1;34m(self, fields, geo, year, **kwargs)\u001b[0m\n\u001b[0;32m    198\u001b[0m \u001b[1;33m\u001b[0m\u001b[0m\n\u001b[0;32m    199\u001b[0m         \u001b[1;32melse\u001b[0m\u001b[1;33m:\u001b[0m\u001b[1;33m\u001b[0m\u001b[1;33m\u001b[0m\u001b[0m\n\u001b[1;32m--> 200\u001b[1;33m             \u001b[1;32mraise\u001b[0m \u001b[0mCensusException\u001b[0m\u001b[1;33m(\u001b[0m\u001b[0mresp\u001b[0m\u001b[1;33m.\u001b[0m\u001b[0mtext\u001b[0m\u001b[1;33m)\u001b[0m\u001b[1;33m\u001b[0m\u001b[1;33m\u001b[0m\u001b[0m\n\u001b[0m\u001b[0;32m    201\u001b[0m \u001b[1;33m\u001b[0m\u001b[0m\n\u001b[0;32m    202\u001b[0m     \u001b[1;33m@\u001b[0m\u001b[0mlru_cache\u001b[0m\u001b[1;33m(\u001b[0m\u001b[0mmaxsize\u001b[0m\u001b[1;33m=\u001b[0m\u001b[1;36m1024\u001b[0m\u001b[1;33m)\u001b[0m\u001b[1;33m\u001b[0m\u001b[1;33m\u001b[0m\u001b[0m\n",
      "\u001b[1;31mCensusException\u001b[0m: <html><head><title>Error report</title></head><body><h1>HTTP Status 404 - /data/2019/acs/acs5</h1></body></html>"
     ]
    }
   ],
   "source": [
    "# # Run Census Search to retrieve data on all zip codes (2019)\n",
    "# census_data_f = f.acs5.get((\"NAME\", \"B19013_001E\", \"B19301_001E\", \"B17001_002E\",\n",
    "#                           \"B17012_002E\", \"B01003_001E\", \"B25077_001E\"), {'for': 'zip code tabulation area:*'})\n",
    "\n",
    "# # Convert to DataFrame\n",
    "# census_pd_f = pd.DataFrame(census_data_f)\n",
    "\n",
    "# # Column Reordering\n",
    "# census_pd_f = census_pd_f.rename(columns={\n",
    "#     \"B01003_001E\": \"Population\", \n",
    "#     \"B17001_002E\": \"Poverty Count\", \n",
    "#     \"B17012_002E\": \"Family Poverty Count\",\n",
    "#     \"B19013_001E\": \"Median Household Income\", \n",
    "#     \"B19301_001E\": \"Per Capita Income\", \n",
    "#     \"B25077_001E\": \"Median Home Value\",\n",
    "#     \"NAME\": \"Name\", \"zip code tabulation area\": \"Zipcode\"})\n",
    "\n",
    "# # Add in Poverty Rate (Poverty Count / Population)\n",
    "# census_pd_f[\"Poverty Rate\"] = (100 * census_pd_f[\"Poverty Count\"].astype(float) / census_pd_f[\"Population\"].astype(float)).round(2)\n",
    "\n",
    "# # Final DataFrame\n",
    "# census_pd_f = census_pd_f[[\n",
    "#     \"Zipcode\", \n",
    "#     \"Population\", \n",
    "#     \"Poverty Count\", \n",
    "#     \"Poverty Rate\",\n",
    "#     \"Family Poverty Count\", \n",
    "#     \"Median Household Income\", \n",
    "#     \"Per Capita Income\", \n",
    "#     \"Median Home Value\"]]\n",
    "\n",
    "# # Filter Zipcode: limited to Sac County\n",
    "# census_sac_f = census_pd_f[census_pd_f[\"Zipcode\"].isin([\n",
    "#     \"95608\", \"95610\", \"95615\", \"95621\", \"95624\", \"95626\", \"95628\", \"95630\", \"95632\", \"95638\", \n",
    "#     \"95639\", \"95641\", \"95652\", \"95655\", \"95660\", \"95662\", \"95670\", \"95673\", \"95680\", \"95683\",\n",
    "#     \"95690\", \"95693\", \"95742\", \"95757\", \"95758\", \"95811\", \"95814\", \"95815\", \"95816\", \"95817\",\n",
    "#     \"95818\", \"95819\", \"95820\", \"95821\", \"95822\", \"95823\", \"95824\", \"95825\", \"95826\", \"95827\",\n",
    "#     \"95828\", \"95829\", \"95830\", \"95831\", \"95832\", \"95833\", \"95834\", \"95835\", \"95837\", \"95838\", \n",
    "#     \"95841\", \"95842\", \"95843\", \"95864\"])]\n",
    "\n",
    "\n",
    "# # Visualize\n",
    "# print(len(census_sac_f))\n",
    "# census_sac_f.head()"
   ]
  }
 ]
}