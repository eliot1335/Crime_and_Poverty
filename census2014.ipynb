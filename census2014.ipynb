{
 "metadata": {
  "language_info": {
   "codemirror_mode": {
    "name": "ipython",
    "version": 3
   },
   "file_extension": ".py",
   "mimetype": "text/x-python",
   "name": "python",
   "nbconvert_exporter": "python",
   "pygments_lexer": "ipython3",
   "version": "3.8.3-final"
  },
  "orig_nbformat": 2,
  "kernelspec": {
   "name": "python3",
   "display_name": "Python 3.8.3 64-bit ('datavispip': conda)",
   "metadata": {
    "interpreter": {
     "hash": "c8ca10ecc8471ee9f0677057683f87ff47ab794b3f9adc34523f957990c0d05f"
    }
   }
  }
 },
 "nbformat": 4,
 "nbformat_minor": 2,
 "cells": [
  {
   "cell_type": "code",
   "execution_count": 16,
   "metadata": {},
   "outputs": [],
   "source": [
    "# Dependencies\n",
    "import numpy as np\n",
    "import pandas as pd\n",
    "import matplotlib.pyplot as plt\n",
    "import requests\n",
    "from census import Census\n",
    "\n",
    "# Census API Key\n",
    "from config import api_key\n",
    "a = Census(api_key, year=2014)\n",
    "b = Census(api_key, year=2015)\n",
    "c = Census(api_key, year=2016)\n",
    "d = Census(api_key, year=2017)\n",
    "e = Census(api_key, year=2018)\n",
    "f = Census(api_key, year=2019)"
   ]
  },
  {
   "cell_type": "code",
   "execution_count": 17,
   "metadata": {},
   "outputs": [],
   "source": [
    "# Median Household Income\n",
    "# \"B19013_001E\"\n",
    "# Median household income in the past 12 months\n",
    "\n",
    "# Income Per Capita\n",
    "# \"B19301_001E\"\n",
    "# Per capita income in the past 12 months\n",
    "\n",
    "# Poverty Count\n",
    "# \"B17001_002E\"\n",
    "# Number of persons whose income in the past 12 months is below the poverty level\n",
    "\n",
    "# Family Poverty Count\n",
    "# \"B17012_002E\"\n",
    "# Number of families below the poverty level in the past 12 months\n",
    "\n",
    "# Population\n",
    "# \"B01003_001E\"\n",
    "# Total population\n",
    "\n",
    "# Median Home Value\n",
    "# \"B25077_001E\"\n",
    "# average value of an owner-occupied home"
   ]
  },
  {
   "cell_type": "code",
   "execution_count": 18,
   "metadata": {},
   "outputs": [
    {
     "output_type": "stream",
     "name": "stdout",
     "text": [
      "33120\n"
     ]
    },
    {
     "output_type": "execute_result",
     "data": {
      "text/plain": [
       "  Zipcode  Population  Poverty Count  Poverty Rate  Family Poverty Count  \\\n",
       "0   00601     18088.0        10911.0     60.321760                2567.0   \n",
       "1   00602     40859.0        21724.0     53.168213                4779.0   \n",
       "2   00603     53162.0        26027.0     48.957902                6001.0   \n",
       "3   00606      6415.0         3778.0     58.893219                 727.0   \n",
       "4   00610     28805.0        14149.0     49.119944                3078.0   \n",
       "\n",
       "   Median Household Income  Per Capita Income  Median Home Value  \n",
       "0                  10833.0             7229.0           105400.0  \n",
       "1                  16353.0             9048.0            91200.0  \n",
       "2                  16323.0             9888.0           128700.0  \n",
       "3                  14138.0             6385.0           105800.0  \n",
       "4                  17265.0             8197.0           113700.0  "
      ],
      "text/html": "<div>\n<style scoped>\n    .dataframe tbody tr th:only-of-type {\n        vertical-align: middle;\n    }\n\n    .dataframe tbody tr th {\n        vertical-align: top;\n    }\n\n    .dataframe thead th {\n        text-align: right;\n    }\n</style>\n<table border=\"1\" class=\"dataframe\">\n  <thead>\n    <tr style=\"text-align: right;\">\n      <th></th>\n      <th>Zipcode</th>\n      <th>Population</th>\n      <th>Poverty Count</th>\n      <th>Poverty Rate</th>\n      <th>Family Poverty Count</th>\n      <th>Median Household Income</th>\n      <th>Per Capita Income</th>\n      <th>Median Home Value</th>\n    </tr>\n  </thead>\n  <tbody>\n    <tr>\n      <th>0</th>\n      <td>00601</td>\n      <td>18088.0</td>\n      <td>10911.0</td>\n      <td>60.321760</td>\n      <td>2567.0</td>\n      <td>10833.0</td>\n      <td>7229.0</td>\n      <td>105400.0</td>\n    </tr>\n    <tr>\n      <th>1</th>\n      <td>00602</td>\n      <td>40859.0</td>\n      <td>21724.0</td>\n      <td>53.168213</td>\n      <td>4779.0</td>\n      <td>16353.0</td>\n      <td>9048.0</td>\n      <td>91200.0</td>\n    </tr>\n    <tr>\n      <th>2</th>\n      <td>00603</td>\n      <td>53162.0</td>\n      <td>26027.0</td>\n      <td>48.957902</td>\n      <td>6001.0</td>\n      <td>16323.0</td>\n      <td>9888.0</td>\n      <td>128700.0</td>\n    </tr>\n    <tr>\n      <th>3</th>\n      <td>00606</td>\n      <td>6415.0</td>\n      <td>3778.0</td>\n      <td>58.893219</td>\n      <td>727.0</td>\n      <td>14138.0</td>\n      <td>6385.0</td>\n      <td>105800.0</td>\n    </tr>\n    <tr>\n      <th>4</th>\n      <td>00610</td>\n      <td>28805.0</td>\n      <td>14149.0</td>\n      <td>49.119944</td>\n      <td>3078.0</td>\n      <td>17265.0</td>\n      <td>8197.0</td>\n      <td>113700.0</td>\n    </tr>\n  </tbody>\n</table>\n</div>"
     },
     "metadata": {},
     "execution_count": 18
    }
   ],
   "source": [
    "# Run Census Search to retrieve data on all zip codes (2014)\n",
    "census_data_a = a.acs5.get((\"NAME\", \"B19013_001E\", \"B19301_001E\", \"B17001_002E\",\n",
    "                          \"B17012_002E\", \"B01003_001E\", \"B25077_001E\"), {'for': 'zip code tabulation area:*'})\n",
    "\n",
    "# Convert to DataFrame\n",
    "census_pd_a = pd.DataFrame(census_data_a)\n",
    "\n",
    "# Column Reordering\n",
    "census_pd_a = census_pd_a.rename(columns={\n",
    "    \"B01003_001E\": \"Population\", \n",
    "    \"B17001_002E\": \"Poverty Count\", \n",
    "    \"B17012_002E\": \"Family Poverty Count\",\n",
    "    \"B19013_001E\": \"Median Household Income\", \n",
    "    \"B19301_001E\": \"Per Capita Income\", \n",
    "    \"B25077_001E\": \"Median Home Value\",\n",
    "    \"NAME\": \"Name\", \"zip code tabulation area\": \"Zipcode\"})\n",
    "\n",
    "# Add in Poverty Rate (Poverty Count / Population)\n",
    "census_pd_a[\"Poverty Rate\"] = 100 * census_pd_a[\"Poverty Count\"].astype(int) / census_pd_a[\"Population\"].astype(int)\n",
    "\n",
    "# Final DataFrame\n",
    "census_pd_a = census_pd_a[[\n",
    "    \"Zipcode\", \n",
    "    \"Population\", \n",
    "    \"Poverty Count\", \n",
    "    \"Poverty Rate\", \n",
    "    \"Family Poverty Count\", \n",
    "    \"Median Household Income\", \n",
    "    \"Per Capita Income\", \n",
    "    \"Median Home Value\"]]\n",
    "\n",
    "# Visualize\n",
    "print(len(census_pd_a))\n",
    "census_pd_a.head()"
   ]
  },
  {
   "cell_type": "code",
   "execution_count": 21,
   "metadata": {},
   "outputs": [
    {
     "output_type": "stream",
     "name": "stdout",
     "text": [
      "33120\n"
     ]
    },
    {
     "output_type": "execute_result",
     "data": {
      "text/plain": [
       "  Zipcode  Population  Poverty Count  Poverty Rate  Family Poverty Count  \\\n",
       "0   12810       724.0           78.0     10.773481                   9.0   \n",
       "1   12811        67.0            0.0      0.000000                   0.0   \n",
       "2   12812        58.0            0.0      0.000000                   0.0   \n",
       "3   12814      1282.0           51.0      3.978159                   5.0   \n",
       "4   12815      1103.0          159.0     14.415231                  29.0   \n",
       "\n",
       "   Median Household Income  Per Capita Income  Median Home Value  \n",
       "0                  57500.0            25551.0           116200.0  \n",
       "1             -666666666.0            11590.0       -666666666.0  \n",
       "2                  49583.0            23600.0           122500.0  \n",
       "3                  58176.0            35508.0           317100.0  \n",
       "4                  60458.0            30685.0           227300.0  "
      ],
      "text/html": "<div>\n<style scoped>\n    .dataframe tbody tr th:only-of-type {\n        vertical-align: middle;\n    }\n\n    .dataframe tbody tr th {\n        vertical-align: top;\n    }\n\n    .dataframe thead th {\n        text-align: right;\n    }\n</style>\n<table border=\"1\" class=\"dataframe\">\n  <thead>\n    <tr style=\"text-align: right;\">\n      <th></th>\n      <th>Zipcode</th>\n      <th>Population</th>\n      <th>Poverty Count</th>\n      <th>Poverty Rate</th>\n      <th>Family Poverty Count</th>\n      <th>Median Household Income</th>\n      <th>Per Capita Income</th>\n      <th>Median Home Value</th>\n    </tr>\n  </thead>\n  <tbody>\n    <tr>\n      <th>0</th>\n      <td>12810</td>\n      <td>724.0</td>\n      <td>78.0</td>\n      <td>10.773481</td>\n      <td>9.0</td>\n      <td>57500.0</td>\n      <td>25551.0</td>\n      <td>116200.0</td>\n    </tr>\n    <tr>\n      <th>1</th>\n      <td>12811</td>\n      <td>67.0</td>\n      <td>0.0</td>\n      <td>0.000000</td>\n      <td>0.0</td>\n      <td>-666666666.0</td>\n      <td>11590.0</td>\n      <td>-666666666.0</td>\n    </tr>\n    <tr>\n      <th>2</th>\n      <td>12812</td>\n      <td>58.0</td>\n      <td>0.0</td>\n      <td>0.000000</td>\n      <td>0.0</td>\n      <td>49583.0</td>\n      <td>23600.0</td>\n      <td>122500.0</td>\n    </tr>\n    <tr>\n      <th>3</th>\n      <td>12814</td>\n      <td>1282.0</td>\n      <td>51.0</td>\n      <td>3.978159</td>\n      <td>5.0</td>\n      <td>58176.0</td>\n      <td>35508.0</td>\n      <td>317100.0</td>\n    </tr>\n    <tr>\n      <th>4</th>\n      <td>12815</td>\n      <td>1103.0</td>\n      <td>159.0</td>\n      <td>14.415231</td>\n      <td>29.0</td>\n      <td>60458.0</td>\n      <td>30685.0</td>\n      <td>227300.0</td>\n    </tr>\n  </tbody>\n</table>\n</div>"
     },
     "metadata": {},
     "execution_count": 21
    }
   ],
   "source": [
    "# Run Census Search to retrieve data on all zip codes (2015)\n",
    "census_data_b = b.acs5.get((\"NAME\", \"B19013_001E\", \"B19301_001E\", \"B17001_002E\",\n",
    "                          \"B17012_002E\", \"B01003_001E\", \"B25077_001E\"), {'for': 'zip code tabulation area:*'})\n",
    "\n",
    "# Convert to DataFrame\n",
    "census_pd_b = pd.DataFrame(census_data_b)\n",
    "\n",
    "# Column Reordering\n",
    "census_pd_b = census_pd_b.rename(columns={\n",
    "    \"B01003_001E\": \"Population\", \n",
    "    \"B17001_002E\": \"Poverty Count\", \n",
    "    \"B17012_002E\": \"Family Poverty Count\",\n",
    "    \"B19013_001E\": \"Median Household Income\", \n",
    "    \"B19301_001E\": \"Per Capita Income\", \n",
    "    \"B25077_001E\": \"Median Home Value\",\n",
    "    \"NAME\": \"Name\", \"zip code tabulation area\": \"Zipcode\"})\n",
    "\n",
    "# Add in Poverty Rate (Poverty Count / Population)\n",
    "census_pd_b[\"Poverty Rate\"] = 100 * census_pd_b[\"Poverty Count\"].astype(int) / census_pd_b[\"Population\"].astype(int)\n",
    "\n",
    "# Final DataFrame\n",
    "census_pd_b = census_pd_b[[\n",
    "    \"Zipcode\", \n",
    "    \"Population\", \n",
    "    \"Poverty Count\", \n",
    "    \"Poverty Rate\", \n",
    "    \"Family Poverty Count\", \n",
    "    \"Median Household Income\", \n",
    "    \"Per Capita Income\", \n",
    "    \"Median Home Value\"]]\n",
    "\n",
    "# Visualize\n",
    "print(len(census_pd_b))\n",
    "census_pd_b.head()"
   ]
  },
  {
   "cell_type": "code",
   "execution_count": 20,
   "metadata": {},
   "outputs": [
    {
     "output_type": "stream",
     "name": "stdout",
     "text": [
      "33120\n"
     ]
    },
    {
     "output_type": "execute_result",
     "data": {
      "text/plain": [
       "  Zipcode  Population  Poverty Count  Poverty Rate  Family Poverty Count  \\\n",
       "0   19610     15762.0          917.0      5.817790                 128.0   \n",
       "1   19611     10668.0         3069.0     28.768279                 697.0   \n",
       "2   19701     40611.0         1951.0      4.804117                 317.0   \n",
       "3   19702     53870.0         4988.0      9.259328                 869.0   \n",
       "4   19703     15196.0         1444.0      9.502501                 249.0   \n",
       "\n",
       "   Median Household Income  Per Capita Income  Median Home Value  \n",
       "0                  70890.0            42621.0           223900.0  \n",
       "1                  36823.0            17714.0           109700.0  \n",
       "2                  81283.0            35149.0           262700.0  \n",
       "3                  71094.0            32420.0           229500.0  \n",
       "4                  53962.0            26673.0           206300.0  "
      ],
      "text/html": "<div>\n<style scoped>\n    .dataframe tbody tr th:only-of-type {\n        vertical-align: middle;\n    }\n\n    .dataframe tbody tr th {\n        vertical-align: top;\n    }\n\n    .dataframe thead th {\n        text-align: right;\n    }\n</style>\n<table border=\"1\" class=\"dataframe\">\n  <thead>\n    <tr style=\"text-align: right;\">\n      <th></th>\n      <th>Zipcode</th>\n      <th>Population</th>\n      <th>Poverty Count</th>\n      <th>Poverty Rate</th>\n      <th>Family Poverty Count</th>\n      <th>Median Household Income</th>\n      <th>Per Capita Income</th>\n      <th>Median Home Value</th>\n    </tr>\n  </thead>\n  <tbody>\n    <tr>\n      <th>0</th>\n      <td>19610</td>\n      <td>15762.0</td>\n      <td>917.0</td>\n      <td>5.817790</td>\n      <td>128.0</td>\n      <td>70890.0</td>\n      <td>42621.0</td>\n      <td>223900.0</td>\n    </tr>\n    <tr>\n      <th>1</th>\n      <td>19611</td>\n      <td>10668.0</td>\n      <td>3069.0</td>\n      <td>28.768279</td>\n      <td>697.0</td>\n      <td>36823.0</td>\n      <td>17714.0</td>\n      <td>109700.0</td>\n    </tr>\n    <tr>\n      <th>2</th>\n      <td>19701</td>\n      <td>40611.0</td>\n      <td>1951.0</td>\n      <td>4.804117</td>\n      <td>317.0</td>\n      <td>81283.0</td>\n      <td>35149.0</td>\n      <td>262700.0</td>\n    </tr>\n    <tr>\n      <th>3</th>\n      <td>19702</td>\n      <td>53870.0</td>\n      <td>4988.0</td>\n      <td>9.259328</td>\n      <td>869.0</td>\n      <td>71094.0</td>\n      <td>32420.0</td>\n      <td>229500.0</td>\n    </tr>\n    <tr>\n      <th>4</th>\n      <td>19703</td>\n      <td>15196.0</td>\n      <td>1444.0</td>\n      <td>9.502501</td>\n      <td>249.0</td>\n      <td>53962.0</td>\n      <td>26673.0</td>\n      <td>206300.0</td>\n    </tr>\n  </tbody>\n</table>\n</div>"
     },
     "metadata": {},
     "execution_count": 20
    }
   ],
   "source": [
    "# Run Census Search to retrieve data on all zip codes (2016)\n",
    "census_data_c = c.acs5.get((\"NAME\", \"B19013_001E\", \"B19301_001E\", \"B17001_002E\",\n",
    "                          \"B17012_002E\", \"B01003_001E\", \"B25077_001E\"), {'for': 'zip code tabulation area:*'})\n",
    "\n",
    "# Convert to DataFrame\n",
    "census_pd_c = pd.DataFrame(census_data_c)\n",
    "\n",
    "# Column Reordering\n",
    "census_pd_c = census_pd_c.rename(columns={\n",
    "    \"B01003_001E\": \"Population\", \n",
    "    \"B17001_002E\": \"Poverty Count\", \n",
    "    \"B17012_002E\": \"Family Poverty Count\",\n",
    "    \"B19013_001E\": \"Median Household Income\", \n",
    "    \"B19301_001E\": \"Per Capita Income\", \n",
    "    \"B25077_001E\": \"Median Home Value\",\n",
    "    \"NAME\": \"Name\", \"zip code tabulation area\": \"Zipcode\"})\n",
    "\n",
    "# Add in Poverty Rate (Poverty Count / Population)\n",
    "census_pd_c[\"Poverty Rate\"] = 100 * census_pd_c[\"Poverty Count\"].astype(int) / census_pd_c[\"Population\"].astype(int)\n",
    "\n",
    "# Final DataFrame\n",
    "census_pd_c = census_pd_c[[\n",
    "    \"Zipcode\", \n",
    "    \"Population\", \n",
    "    \"Poverty Count\", \n",
    "    \"Poverty Rate\", \n",
    "    \"Family Poverty Count\", \n",
    "    \"Median Household Income\", \n",
    "    \"Per Capita Income\", \n",
    "    \"Median Home Value\"]]\n",
    "\n",
    "# Visualize\n",
    "print(len(census_pd_c))\n",
    "census_pd_c.head()"
   ]
  }
 ]
}