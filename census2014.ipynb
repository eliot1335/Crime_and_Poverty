{
 "metadata": {
  "language_info": {
   "codemirror_mode": {
    "name": "ipython",
    "version": 3
   },
   "file_extension": ".py",
   "mimetype": "text/x-python",
   "name": "python",
   "nbconvert_exporter": "python",
   "pygments_lexer": "ipython3",
   "version": "3.8.3-final"
  },
  "orig_nbformat": 2,
  "kernelspec": {
   "name": "python3",
   "display_name": "Python 3.8.3 64-bit ('datavispip': conda)",
   "metadata": {
    "interpreter": {
     "hash": "c8ca10ecc8471ee9f0677057683f87ff47ab794b3f9adc34523f957990c0d05f"
    }
   }
  }
 },
 "nbformat": 4,
 "nbformat_minor": 2,
 "cells": [
  {
   "cell_type": "code",
   "execution_count": 16,
   "metadata": {},
   "outputs": [],
   "source": [
    "# Dependencies\n",
    "import numpy as np\n",
    "import pandas as pd\n",
    "import matplotlib.pyplot as plt\n",
    "import requests\n",
    "from census import Census\n",
    "\n",
    "# Census API Key\n",
    "from config import api_key\n",
    "a = Census(api_key, year=2014)\n",
    "b = Census(api_key, year=2015)\n",
    "c = Census(api_key, year=2016)\n",
    "d = Census(api_key, year=2017)\n",
    "e = Census(api_key, year=2018)\n",
    "f = Census(api_key, year=2019)"
   ]
  },
  {
   "cell_type": "code",
   "execution_count": 17,
   "metadata": {},
   "outputs": [],
   "source": [
    "# Median Household Income\n",
    "# \"B19013_001E\"\n",
    "# Median household income in the past 12 months\n",
    "\n",
    "# Income Per Capita\n",
    "# \"B19301_001E\"\n",
    "# Per capita income in the past 12 months\n",
    "\n",
    "# Poverty Count\n",
    "# \"B17001_002E\"\n",
    "# Number of persons whose income in the past 12 months is below the poverty level\n",
    "\n",
    "# Family Poverty Count\n",
    "# \"B17012_002E\"\n",
    "# Number of families below the poverty level in the past 12 months\n",
    "\n",
    "# Population\n",
    "# \"B01003_001E\"\n",
    "# Total population\n",
    "\n",
    "# Median Home Value\n",
    "# \"B25077_001E\"\n",
    "# average value of an owner-occupied home"
   ]
  },
  {
   "cell_type": "code",
   "execution_count": 27,
   "metadata": {},
   "outputs": [
    {
     "output_type": "stream",
     "name": "stdout",
     "text": [
      "54\n"
     ]
    },
    {
     "output_type": "execute_result",
     "data": {
      "text/plain": [
       "      Zipcode  Population  Poverty Count  Poverty Rate  Family Poverty Count  \\\n",
       "30966   95608     60729.0         8301.0         13.67                1476.0   \n",
       "30967   95610     43572.0         7174.0         16.46                1136.0   \n",
       "30970   95615      1090.0          165.0         15.14                   0.0   \n",
       "30975   95621     41474.0         5842.0         14.09                1069.0   \n",
       "30977   95624     63131.0         6848.0         10.85                1266.0   \n",
       "\n",
       "       Median Household Income  Per Capita Income  Median Home Value  \n",
       "30966                  55256.0            34606.0           304200.0  \n",
       "30967                  50536.0            25288.0           217100.0  \n",
       "30970                  59028.0            29801.0           324000.0  \n",
       "30975                  51827.0            24379.0           173700.0  \n",
       "30977                  80233.0            29752.0           270400.0  "
      ],
      "text/html": "<div>\n<style scoped>\n    .dataframe tbody tr th:only-of-type {\n        vertical-align: middle;\n    }\n\n    .dataframe tbody tr th {\n        vertical-align: top;\n    }\n\n    .dataframe thead th {\n        text-align: right;\n    }\n</style>\n<table border=\"1\" class=\"dataframe\">\n  <thead>\n    <tr style=\"text-align: right;\">\n      <th></th>\n      <th>Zipcode</th>\n      <th>Population</th>\n      <th>Poverty Count</th>\n      <th>Poverty Rate</th>\n      <th>Family Poverty Count</th>\n      <th>Median Household Income</th>\n      <th>Per Capita Income</th>\n      <th>Median Home Value</th>\n    </tr>\n  </thead>\n  <tbody>\n    <tr>\n      <th>30966</th>\n      <td>95608</td>\n      <td>60729.0</td>\n      <td>8301.0</td>\n      <td>13.67</td>\n      <td>1476.0</td>\n      <td>55256.0</td>\n      <td>34606.0</td>\n      <td>304200.0</td>\n    </tr>\n    <tr>\n      <th>30967</th>\n      <td>95610</td>\n      <td>43572.0</td>\n      <td>7174.0</td>\n      <td>16.46</td>\n      <td>1136.0</td>\n      <td>50536.0</td>\n      <td>25288.0</td>\n      <td>217100.0</td>\n    </tr>\n    <tr>\n      <th>30970</th>\n      <td>95615</td>\n      <td>1090.0</td>\n      <td>165.0</td>\n      <td>15.14</td>\n      <td>0.0</td>\n      <td>59028.0</td>\n      <td>29801.0</td>\n      <td>324000.0</td>\n    </tr>\n    <tr>\n      <th>30975</th>\n      <td>95621</td>\n      <td>41474.0</td>\n      <td>5842.0</td>\n      <td>14.09</td>\n      <td>1069.0</td>\n      <td>51827.0</td>\n      <td>24379.0</td>\n      <td>173700.0</td>\n    </tr>\n    <tr>\n      <th>30977</th>\n      <td>95624</td>\n      <td>63131.0</td>\n      <td>6848.0</td>\n      <td>10.85</td>\n      <td>1266.0</td>\n      <td>80233.0</td>\n      <td>29752.0</td>\n      <td>270400.0</td>\n    </tr>\n  </tbody>\n</table>\n</div>"
     },
     "metadata": {},
     "execution_count": 27
    }
   ],
   "source": [
    "# Run Census Search to retrieve data on all zip codes (2014)\n",
    "census_data_a = a.acs5.get((\"NAME\", \"B19013_001E\", \"B19301_001E\", \"B17001_002E\",\n",
    "                          \"B17012_002E\", \"B01003_001E\", \"B25077_001E\"), {'for': 'zip code tabulation area:*'})\n",
    "\n",
    "# Convert to DataFrame\n",
    "census_pd_a = pd.DataFrame(census_data_a)\n",
    "\n",
    "# Column Reordering\n",
    "census_pd_a = census_pd_a.rename(columns={\n",
    "    \"B01003_001E\": \"Population\", \n",
    "    \"B17001_002E\": \"Poverty Count\", \n",
    "    \"B17012_002E\": \"Family Poverty Count\",\n",
    "    \"B19013_001E\": \"Median Household Income\", \n",
    "    \"B19301_001E\": \"Per Capita Income\", \n",
    "    \"B25077_001E\": \"Median Home Value\",\n",
    "    \"NAME\": \"Name\", \"zip code tabulation area\": \"Zipcode\"})\n",
    "\n",
    "# Add in Poverty Rate (Poverty Count / Population)\n",
    "census_pd_a[\"Poverty Rate\"] = (100 * census_pd_a[\"Poverty Count\"].astype(int) / census_pd_a[\"Population\"].astype(int)).round(2)\n",
    "\n",
    "# Final DataFrame\n",
    "census_pd_a = census_pd_a[[\n",
    "    \"Zipcode\", \n",
    "    \"Population\", \n",
    "    \"Poverty Count\", \n",
    "    \"Poverty Rate\", \n",
    "    \"Family Poverty Count\", \n",
    "    \"Median Household Income\", \n",
    "    \"Per Capita Income\", \n",
    "    \"Median Home Value\"]]\n",
    "\n",
    "# Filter Zipcode: limited to Sac County\n",
    "census_sac_a = census_pd_a[census_pd_a[\"Zipcode\"].isin([\n",
    "    \"95608\", \"95610\", \"95615\", \"95621\", \"95624\", \"95626\", \"95628\", \"95630\", \"95632\", \"95638\", \n",
    "    \"95639\", \"95641\", \"95652\", \"95655\", \"95660\", \"95662\", \"95670\", \"95673\", \"95680\", \"95683\",\n",
    "    \"95690\", \"95693\", \"95742\", \"95757\", \"95758\", \"95811\", \"95814\", \"95815\", \"95816\", \"95817\",\n",
    "    \"95818\", \"95819\", \"95820\", \"95821\", \"95822\", \"95823\", \"95824\", \"95825\", \"95826\", \"95827\",\n",
    "    \"95828\", \"95829\", \"95830\", \"95831\", \"95832\", \"95833\", \"95834\", \"95835\", \"95837\", \"95838\", \n",
    "    \"95841\", \"95842\", \"95843\", \"95864\"])]\n",
    "\n",
    "# Visualize\n",
    "print(len(census_sac_a))\n",
    "census_sac_a.head()"
   ]
  },
  {
   "cell_type": "code",
   "execution_count": 26,
   "metadata": {},
   "outputs": [
    {
     "output_type": "stream",
     "name": "stdout",
     "text": [
      "54\n"
     ]
    },
    {
     "output_type": "execute_result",
     "data": {
      "text/plain": [
       "      Zipcode  Population  Poverty Count  Poverty Rate  Family Poverty Count  \\\n",
       "16984   95608     61344.0         9472.0     15.440793                1584.0   \n",
       "16985   95610     44085.0         7179.0     16.284450                1228.0   \n",
       "16988   95615       861.0          164.0     19.047619                   0.0   \n",
       "16993   95621     42063.0         6066.0     14.421225                1048.0   \n",
       "16995   95624     64225.0         6920.0     10.774620                1310.0   \n",
       "\n",
       "       Median Household Income  Per Capita Income  Median Home Value  \n",
       "16984                  54407.0            35223.0           311900.0  \n",
       "16985                  50264.0            25091.0           228100.0  \n",
       "16988                  55938.0            33464.0           243400.0  \n",
       "16993                  49911.0            23856.0           178900.0  \n",
       "16995                  80595.0            29992.0           290800.0  "
      ],
      "text/html": "<div>\n<style scoped>\n    .dataframe tbody tr th:only-of-type {\n        vertical-align: middle;\n    }\n\n    .dataframe tbody tr th {\n        vertical-align: top;\n    }\n\n    .dataframe thead th {\n        text-align: right;\n    }\n</style>\n<table border=\"1\" class=\"dataframe\">\n  <thead>\n    <tr style=\"text-align: right;\">\n      <th></th>\n      <th>Zipcode</th>\n      <th>Population</th>\n      <th>Poverty Count</th>\n      <th>Poverty Rate</th>\n      <th>Family Poverty Count</th>\n      <th>Median Household Income</th>\n      <th>Per Capita Income</th>\n      <th>Median Home Value</th>\n    </tr>\n  </thead>\n  <tbody>\n    <tr>\n      <th>16984</th>\n      <td>95608</td>\n      <td>61344.0</td>\n      <td>9472.0</td>\n      <td>15.440793</td>\n      <td>1584.0</td>\n      <td>54407.0</td>\n      <td>35223.0</td>\n      <td>311900.0</td>\n    </tr>\n    <tr>\n      <th>16985</th>\n      <td>95610</td>\n      <td>44085.0</td>\n      <td>7179.0</td>\n      <td>16.284450</td>\n      <td>1228.0</td>\n      <td>50264.0</td>\n      <td>25091.0</td>\n      <td>228100.0</td>\n    </tr>\n    <tr>\n      <th>16988</th>\n      <td>95615</td>\n      <td>861.0</td>\n      <td>164.0</td>\n      <td>19.047619</td>\n      <td>0.0</td>\n      <td>55938.0</td>\n      <td>33464.0</td>\n      <td>243400.0</td>\n    </tr>\n    <tr>\n      <th>16993</th>\n      <td>95621</td>\n      <td>42063.0</td>\n      <td>6066.0</td>\n      <td>14.421225</td>\n      <td>1048.0</td>\n      <td>49911.0</td>\n      <td>23856.0</td>\n      <td>178900.0</td>\n    </tr>\n    <tr>\n      <th>16995</th>\n      <td>95624</td>\n      <td>64225.0</td>\n      <td>6920.0</td>\n      <td>10.774620</td>\n      <td>1310.0</td>\n      <td>80595.0</td>\n      <td>29992.0</td>\n      <td>290800.0</td>\n    </tr>\n  </tbody>\n</table>\n</div>"
     },
     "metadata": {},
     "execution_count": 26
    }
   ],
   "source": [
    "# Run Census Search to retrieve data on all zip codes (2015)\n",
    "census_data_b = b.acs5.get((\"NAME\", \"B19013_001E\", \"B19301_001E\", \"B17001_002E\",\n",
    "                          \"B17012_002E\", \"B01003_001E\", \"B25077_001E\"), {'for': 'zip code tabulation area:*'})\n",
    "\n",
    "# Convert to DataFrame\n",
    "census_pd_b = pd.DataFrame(census_data_b)\n",
    "\n",
    "# Column Reordering\n",
    "census_pd_b = census_pd_b.rename(columns={\n",
    "    \"B01003_001E\": \"Population\", \n",
    "    \"B17001_002E\": \"Poverty Count\", \n",
    "    \"B17012_002E\": \"Family Poverty Count\",\n",
    "    \"B19013_001E\": \"Median Household Income\", \n",
    "    \"B19301_001E\": \"Per Capita Income\", \n",
    "    \"B25077_001E\": \"Median Home Value\",\n",
    "    \"NAME\": \"Name\", \"zip code tabulation area\": \"Zipcode\"})\n",
    "\n",
    "# Add in Poverty Rate (Poverty Count / Population)\n",
    "census_pd_b[\"Poverty Rate\"] = (100 * census_pd_b[\"Poverty Count\"].astype(int) / census_pd_b[\"Population\"].astype(int)).round(2)\n",
    "\n",
    "# Final DataFrame\n",
    "census_pd_b = census_pd_b[[\n",
    "    \"Zipcode\", \n",
    "    \"Population\", \n",
    "    \"Poverty Count\", \n",
    "    \"Poverty Rate\", \n",
    "    \"Family Poverty Count\", \n",
    "    \"Median Household Income\", \n",
    "    \"Per Capita Income\", \n",
    "    \"Median Home Value\"]]\n",
    "\n",
    "# Filter Zipcode: limited to Sac County\n",
    "census_sac_b = census_pd_b[census_pd_b[\"Zipcode\"].isin([\n",
    "    \"95608\", \"95610\", \"95615\", \"95621\", \"95624\", \"95626\", \"95628\", \"95630\", \"95632\", \"95638\", \n",
    "    \"95639\", \"95641\", \"95652\", \"95655\", \"95660\", \"95662\", \"95670\", \"95673\", \"95680\", \"95683\",\n",
    "    \"95690\", \"95693\", \"95742\", \"95757\", \"95758\", \"95811\", \"95814\", \"95815\", \"95816\", \"95817\",\n",
    "    \"95818\", \"95819\", \"95820\", \"95821\", \"95822\", \"95823\", \"95824\", \"95825\", \"95826\", \"95827\",\n",
    "    \"95828\", \"95829\", \"95830\", \"95831\", \"95832\", \"95833\", \"95834\", \"95835\", \"95837\", \"95838\", \n",
    "    \"95841\", \"95842\", \"95843\", \"95864\"])]\n",
    "\n",
    "\n",
    "# Visualize\n",
    "print(len(census_sac_b))\n",
    "census_sac_b.head()"
   ]
  },
  {
   "cell_type": "code",
   "execution_count": 28,
   "metadata": {},
   "outputs": [
    {
     "output_type": "stream",
     "name": "stdout",
     "text": [
      "54\n"
     ]
    },
    {
     "output_type": "execute_result",
     "data": {
      "text/plain": [
       "      Zipcode  Population  Poverty Count  Poverty Rate  Family Poverty Count  \\\n",
       "13504   95608     60199.0         8680.0         14.42                1392.0   \n",
       "13505   95610     44711.0         6767.0         15.13                1075.0   \n",
       "13508   95615       970.0          197.0         20.31                   0.0   \n",
       "13513   95621     41908.0         5809.0         13.86                 986.0   \n",
       "13515   95624     64429.0         6571.0         10.20                1310.0   \n",
       "\n",
       "       Median Household Income  Per Capita Income  Median Home Value  \n",
       "13504                  56891.0            36796.0           331500.0  \n",
       "13505                  51271.0            25814.0           248000.0  \n",
       "13508                  66080.0            26284.0           309600.0  \n",
       "13513                  52462.0            25123.0           196200.0  \n",
       "13515                  84854.0            32386.0           318900.0  "
      ],
      "text/html": "<div>\n<style scoped>\n    .dataframe tbody tr th:only-of-type {\n        vertical-align: middle;\n    }\n\n    .dataframe tbody tr th {\n        vertical-align: top;\n    }\n\n    .dataframe thead th {\n        text-align: right;\n    }\n</style>\n<table border=\"1\" class=\"dataframe\">\n  <thead>\n    <tr style=\"text-align: right;\">\n      <th></th>\n      <th>Zipcode</th>\n      <th>Population</th>\n      <th>Poverty Count</th>\n      <th>Poverty Rate</th>\n      <th>Family Poverty Count</th>\n      <th>Median Household Income</th>\n      <th>Per Capita Income</th>\n      <th>Median Home Value</th>\n    </tr>\n  </thead>\n  <tbody>\n    <tr>\n      <th>13504</th>\n      <td>95608</td>\n      <td>60199.0</td>\n      <td>8680.0</td>\n      <td>14.42</td>\n      <td>1392.0</td>\n      <td>56891.0</td>\n      <td>36796.0</td>\n      <td>331500.0</td>\n    </tr>\n    <tr>\n      <th>13505</th>\n      <td>95610</td>\n      <td>44711.0</td>\n      <td>6767.0</td>\n      <td>15.13</td>\n      <td>1075.0</td>\n      <td>51271.0</td>\n      <td>25814.0</td>\n      <td>248000.0</td>\n    </tr>\n    <tr>\n      <th>13508</th>\n      <td>95615</td>\n      <td>970.0</td>\n      <td>197.0</td>\n      <td>20.31</td>\n      <td>0.0</td>\n      <td>66080.0</td>\n      <td>26284.0</td>\n      <td>309600.0</td>\n    </tr>\n    <tr>\n      <th>13513</th>\n      <td>95621</td>\n      <td>41908.0</td>\n      <td>5809.0</td>\n      <td>13.86</td>\n      <td>986.0</td>\n      <td>52462.0</td>\n      <td>25123.0</td>\n      <td>196200.0</td>\n    </tr>\n    <tr>\n      <th>13515</th>\n      <td>95624</td>\n      <td>64429.0</td>\n      <td>6571.0</td>\n      <td>10.20</td>\n      <td>1310.0</td>\n      <td>84854.0</td>\n      <td>32386.0</td>\n      <td>318900.0</td>\n    </tr>\n  </tbody>\n</table>\n</div>"
     },
     "metadata": {},
     "execution_count": 28
    }
   ],
   "source": [
    "# Run Census Search to retrieve data on all zip codes (2016)\n",
    "census_data_c = c.acs5.get((\"NAME\", \"B19013_001E\", \"B19301_001E\", \"B17001_002E\",\n",
    "                          \"B17012_002E\", \"B01003_001E\", \"B25077_001E\"), {'for': 'zip code tabulation area:*'})\n",
    "\n",
    "# Convert to DataFrame\n",
    "census_pd_c = pd.DataFrame(census_data_c)\n",
    "\n",
    "# Column Reordering\n",
    "census_pd_c = census_pd_c.rename(columns={\n",
    "    \"B01003_001E\": \"Population\", \n",
    "    \"B17001_002E\": \"Poverty Count\", \n",
    "    \"B17012_002E\": \"Family Poverty Count\",\n",
    "    \"B19013_001E\": \"Median Household Income\", \n",
    "    \"B19301_001E\": \"Per Capita Income\", \n",
    "    \"B25077_001E\": \"Median Home Value\",\n",
    "    \"NAME\": \"Name\", \"zip code tabulation area\": \"Zipcode\"})\n",
    "\n",
    "# Add in Poverty Rate (Poverty Count / Population)\n",
    "census_pd_c[\"Poverty Rate\"] = (100 * census_pd_c[\"Poverty Count\"].astype(int) / census_pd_c[\"Population\"].astype(int)).round(2)\n",
    "\n",
    "# Final DataFrame\n",
    "census_pd_c = census_pd_c[[\n",
    "    \"Zipcode\", \n",
    "    \"Population\", \n",
    "    \"Poverty Count\", \n",
    "    \"Poverty Rate\", \n",
    "    \"Family Poverty Count\", \n",
    "    \"Median Household Income\", \n",
    "    \"Per Capita Income\", \n",
    "    \"Median Home Value\"]]\n",
    "\n",
    "# Filter Zipcode: limited to Sac County\n",
    "census_sac_c = census_pd_c[census_pd_c[\"Zipcode\"].isin([\n",
    "    \"95608\", \"95610\", \"95615\", \"95621\", \"95624\", \"95626\", \"95628\", \"95630\", \"95632\", \"95638\", \n",
    "    \"95639\", \"95641\", \"95652\", \"95655\", \"95660\", \"95662\", \"95670\", \"95673\", \"95680\", \"95683\",\n",
    "    \"95690\", \"95693\", \"95742\", \"95757\", \"95758\", \"95811\", \"95814\", \"95815\", \"95816\", \"95817\",\n",
    "    \"95818\", \"95819\", \"95820\", \"95821\", \"95822\", \"95823\", \"95824\", \"95825\", \"95826\", \"95827\",\n",
    "    \"95828\", \"95829\", \"95830\", \"95831\", \"95832\", \"95833\", \"95834\", \"95835\", \"95837\", \"95838\", \n",
    "    \"95841\", \"95842\", \"95843\", \"95864\"])]\n",
    "\n",
    "\n",
    "# Visualize\n",
    "print(len(census_sac_c))\n",
    "census_sac_c.head()"
   ]
  }
 ]
}