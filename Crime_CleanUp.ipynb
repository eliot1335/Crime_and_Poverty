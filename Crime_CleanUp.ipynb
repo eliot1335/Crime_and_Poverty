{
 "metadata": {
  "language_info": {
   "codemirror_mode": {
    "name": "ipython",
    "version": 3
   },
   "file_extension": ".py",
   "mimetype": "text/x-python",
   "name": "python",
   "nbconvert_exporter": "python",
   "pygments_lexer": "ipython3",
   "version": "3.8.3-final"
  },
  "orig_nbformat": 2,
  "kernelspec": {
   "name": "python3",
   "display_name": "Python 3"
  }
 },
 "nbformat": 4,
 "nbformat_minor": 2,
 "cells": [
  {
   "cell_type": "code",
   "execution_count": 9,
   "metadata": {},
   "outputs": [],
   "source": [
    "# Dependencies and Setup\n",
    "import matplotlib.pyplot as plt\n",
    "import pandas as pd\n",
    "import numpy as np\n",
    "import requests\n",
    "import gmaps\n",
    "import os\n",
    "import json\n",
    "import math\n",
    "from pprint import pprint"
   ]
  },
  {
   "cell_type": "code",
   "execution_count": 3,
   "metadata": {},
   "outputs": [
    {
     "output_type": "execute_result",
     "data": {
      "text/plain": [
       "     Zip Code        City             County\n",
       "0       94203  Sacramento  Sacramento County\n",
       "1       94204  Sacramento  Sacramento County\n",
       "2       94205  Sacramento  Sacramento County\n",
       "3       94206  Sacramento  Sacramento County\n",
       "4       94207  Sacramento  Sacramento County\n",
       "..        ...         ...                ...\n",
       "127     95853  Sacramento  Sacramento County\n",
       "128     95860  Sacramento  Sacramento County\n",
       "129     95864  Sacramento  Sacramento County\n",
       "130     95865  Sacramento  Sacramento County\n",
       "131     95866  Sacramento  Sacramento County\n",
       "\n",
       "[132 rows x 3 columns]"
      ],
      "text/html": "<div>\n<style scoped>\n    .dataframe tbody tr th:only-of-type {\n        vertical-align: middle;\n    }\n\n    .dataframe tbody tr th {\n        vertical-align: top;\n    }\n\n    .dataframe thead th {\n        text-align: right;\n    }\n</style>\n<table border=\"1\" class=\"dataframe\">\n  <thead>\n    <tr style=\"text-align: right;\">\n      <th></th>\n      <th>Zip Code</th>\n      <th>City</th>\n      <th>County</th>\n    </tr>\n  </thead>\n  <tbody>\n    <tr>\n      <th>0</th>\n      <td>94203</td>\n      <td>Sacramento</td>\n      <td>Sacramento County</td>\n    </tr>\n    <tr>\n      <th>1</th>\n      <td>94204</td>\n      <td>Sacramento</td>\n      <td>Sacramento County</td>\n    </tr>\n    <tr>\n      <th>2</th>\n      <td>94205</td>\n      <td>Sacramento</td>\n      <td>Sacramento County</td>\n    </tr>\n    <tr>\n      <th>3</th>\n      <td>94206</td>\n      <td>Sacramento</td>\n      <td>Sacramento County</td>\n    </tr>\n    <tr>\n      <th>4</th>\n      <td>94207</td>\n      <td>Sacramento</td>\n      <td>Sacramento County</td>\n    </tr>\n    <tr>\n      <th>...</th>\n      <td>...</td>\n      <td>...</td>\n      <td>...</td>\n    </tr>\n    <tr>\n      <th>127</th>\n      <td>95853</td>\n      <td>Sacramento</td>\n      <td>Sacramento County</td>\n    </tr>\n    <tr>\n      <th>128</th>\n      <td>95860</td>\n      <td>Sacramento</td>\n      <td>Sacramento County</td>\n    </tr>\n    <tr>\n      <th>129</th>\n      <td>95864</td>\n      <td>Sacramento</td>\n      <td>Sacramento County</td>\n    </tr>\n    <tr>\n      <th>130</th>\n      <td>95865</td>\n      <td>Sacramento</td>\n      <td>Sacramento County</td>\n    </tr>\n    <tr>\n      <th>131</th>\n      <td>95866</td>\n      <td>Sacramento</td>\n      <td>Sacramento County</td>\n    </tr>\n  </tbody>\n</table>\n<p>132 rows × 3 columns</p>\n</div>"
     },
     "metadata": {},
     "execution_count": 3
    }
   ],
   "source": [
    "# Load the Zip CSV\n",
    "zip_csv = \"./Resources/ZipCode.csv\"\n",
    "zip_df = pd.read_csv(zip_csv)\n",
    "zip_df"
   ]
  },
  {
   "cell_type": "code",
   "execution_count": 5,
   "metadata": {},
   "outputs": [
    {
     "output_type": "execute_result",
     "data": {
      "text/plain": [
       "                   X             Y     FID ActivityNumber        District  \\\n",
       "0       6.765513e+06  1.994405e+06       1            NaN             NaN   \n",
       "1       1.517236e-04 -2.607703e-06       2   ]\\=\"-0092335   North Central   \n",
       "2       6.756477e+06  1.974923e+06       3  03/30-0055028            East   \n",
       "3       6.741558e+06  1.960069e+06       4     19-0009846            East   \n",
       "4       6.749211e+06  2.004272e+06       5   1977-0020606           North   \n",
       "...              ...           ...     ...            ...             ...   \n",
       "362000  1.517236e-04 -2.607703e-06  362001   2020-8002056             NaN   \n",
       "362001  1.517236e-04 -2.607703e-06  362002   2020-8002082             NaN   \n",
       "362002  6.755575e+06  2.005506e+06  362003   2020-8002107           North   \n",
       "362003  6.764044e+06  1.997386e+06  362004      2-0282708       Northeast   \n",
       "362004  6.761506e+06  1.975871e+06  362005      3-0219474  Rancho Cordova   \n",
       "\n",
       "             Neighborhood   OccurenceStartDate     OccurenceEndDate  \\\n",
       "0           Old Fair Oaks  2009/03/26 17:10:00  2009/03/26 17:19:59   \n",
       "1         Carmichael Park  2018/03/19 21:30:00  2018/03/19 21:59:59   \n",
       "2         Cordova Meadows  2015/03/06 01:11:00  2015/03/06 01:11:00   \n",
       "3          Rosemont Downs  2019/01/09 08:52:59  2019/01/09 09:04:00   \n",
       "4       Foothill Farms NE  1977/01/01 00:00:00  2001/01/01 00:00:00   \n",
       "...                   ...                  ...                  ...   \n",
       "362000                NaN  2018/12/15 02:16:00  2019/09/23 16:18:00   \n",
       "362001                NaN  2019/11/20 01:01:00  2019/11/20 23:58:59   \n",
       "362002     Mercy San Juan  2020/01/21 03:00:00  2020/01/21 03:14:59   \n",
       "362003      Old Fair Oaks  2012/12/20 13:57:00  2012/12/20 13:57:00   \n",
       "362004         White Rock  2019/06/22 17:48:59  2019/06/22 19:28:00   \n",
       "\n",
       "                 ReportDate                OccurenceLocation  \\\n",
       "0       2009/03/26 17:39:00             9300 Block of Fair O   \n",
       "1       2018/03/20 17:00:00             5100 Block of Janell   \n",
       "2       2015/03/06 00:00:00             10000 Block of Terra   \n",
       "3       2019/01/09 14:19:00        8900 Block of Canberra Dr   \n",
       "4       2019/08/06 00:00:00        5200 Block of Auburn Blvd   \n",
       "...                     ...                              ...   \n",
       "362000  2020/01/28 03:24:59  5100 Block of spyglass drive DR   \n",
       "362001  2020/01/10 10:44:00       8300 Block of MEDEIROS WAY   \n",
       "362002  2020/01/21 10:28:00        6100 Block of Marwick Way   \n",
       "362003  2012/12/20 13:57:00             7400 Block of Windin   \n",
       "362004  2019/06/22 17:48:59        Evadna Dr & White Rock Rd   \n",
       "\n",
       "           OccurenceCity OccurenceZipCode  \\\n",
       "0              Fair Oaks            95628   \n",
       "1             Carmichael            95608   \n",
       "2         Rancho Cordova            95670   \n",
       "3             Sacramento            95826   \n",
       "4             Sacramento            95841   \n",
       "...                  ...              ...   \n",
       "362000  las vegas nevada              NaN   \n",
       "362001        SACRAMENTO            95829   \n",
       "362002        Carmichael            95608   \n",
       "362003         Fair Oaks            95628   \n",
       "362004    Rancho Cordova            95670   \n",
       "\n",
       "                                         PrimaryViolation  \n",
       "0                   PC 594(B)(1) Vandalism ($400 Or More)  \n",
       "1                      PC 273.5 Inflict Crpl Inj Sp/Cohab  \n",
       "2                PC 594(B)(2)(A) Vandalism Less Than $400  \n",
       "3                                         PC 459 Burglary  \n",
       "4       PC 261(A)(1) Rape:Victim Incapable Of Giving C...  \n",
       "...                                                   ...  \n",
       "362000  PC 530.5(B) Using Another Person's Identifying...  \n",
       "362001                           PC 368(D) Theft of Elder  \n",
       "362002                   PC 487 Theft from vehicle > $950  \n",
       "362003                                    PC 459 Burglary  \n",
       "362004  HS 11351 Possess/Purchase For Sale Narcotic/Co...  \n",
       "\n",
       "[362005 rows x 13 columns]"
      ],
      "text/html": "<div>\n<style scoped>\n    .dataframe tbody tr th:only-of-type {\n        vertical-align: middle;\n    }\n\n    .dataframe tbody tr th {\n        vertical-align: top;\n    }\n\n    .dataframe thead th {\n        text-align: right;\n    }\n</style>\n<table border=\"1\" class=\"dataframe\">\n  <thead>\n    <tr style=\"text-align: right;\">\n      <th></th>\n      <th>X</th>\n      <th>Y</th>\n      <th>FID</th>\n      <th>ActivityNumber</th>\n      <th>District</th>\n      <th>Neighborhood</th>\n      <th>OccurenceStartDate</th>\n      <th>OccurenceEndDate</th>\n      <th>ReportDate</th>\n      <th>OccurenceLocation</th>\n      <th>OccurenceCity</th>\n      <th>OccurenceZipCode</th>\n      <th>PrimaryViolation</th>\n    </tr>\n  </thead>\n  <tbody>\n    <tr>\n      <th>0</th>\n      <td>6.765513e+06</td>\n      <td>1.994405e+06</td>\n      <td>1</td>\n      <td>NaN</td>\n      <td>NaN</td>\n      <td>Old Fair Oaks</td>\n      <td>2009/03/26 17:10:00</td>\n      <td>2009/03/26 17:19:59</td>\n      <td>2009/03/26 17:39:00</td>\n      <td>9300 Block of Fair O</td>\n      <td>Fair Oaks</td>\n      <td>95628</td>\n      <td>PC 594(B)(1) Vandalism ($400 Or More)</td>\n    </tr>\n    <tr>\n      <th>1</th>\n      <td>1.517236e-04</td>\n      <td>-2.607703e-06</td>\n      <td>2</td>\n      <td>]\\=\"-0092335</td>\n      <td>North Central</td>\n      <td>Carmichael Park</td>\n      <td>2018/03/19 21:30:00</td>\n      <td>2018/03/19 21:59:59</td>\n      <td>2018/03/20 17:00:00</td>\n      <td>5100 Block of Janell</td>\n      <td>Carmichael</td>\n      <td>95608</td>\n      <td>PC 273.5 Inflict Crpl Inj Sp/Cohab</td>\n    </tr>\n    <tr>\n      <th>2</th>\n      <td>6.756477e+06</td>\n      <td>1.974923e+06</td>\n      <td>3</td>\n      <td>03/30-0055028</td>\n      <td>East</td>\n      <td>Cordova Meadows</td>\n      <td>2015/03/06 01:11:00</td>\n      <td>2015/03/06 01:11:00</td>\n      <td>2015/03/06 00:00:00</td>\n      <td>10000 Block of Terra</td>\n      <td>Rancho Cordova</td>\n      <td>95670</td>\n      <td>PC 594(B)(2)(A) Vandalism Less Than $400</td>\n    </tr>\n    <tr>\n      <th>3</th>\n      <td>6.741558e+06</td>\n      <td>1.960069e+06</td>\n      <td>4</td>\n      <td>19-0009846</td>\n      <td>East</td>\n      <td>Rosemont Downs</td>\n      <td>2019/01/09 08:52:59</td>\n      <td>2019/01/09 09:04:00</td>\n      <td>2019/01/09 14:19:00</td>\n      <td>8900 Block of Canberra Dr</td>\n      <td>Sacramento</td>\n      <td>95826</td>\n      <td>PC 459 Burglary</td>\n    </tr>\n    <tr>\n      <th>4</th>\n      <td>6.749211e+06</td>\n      <td>2.004272e+06</td>\n      <td>5</td>\n      <td>1977-0020606</td>\n      <td>North</td>\n      <td>Foothill Farms NE</td>\n      <td>1977/01/01 00:00:00</td>\n      <td>2001/01/01 00:00:00</td>\n      <td>2019/08/06 00:00:00</td>\n      <td>5200 Block of Auburn Blvd</td>\n      <td>Sacramento</td>\n      <td>95841</td>\n      <td>PC 261(A)(1) Rape:Victim Incapable Of Giving C...</td>\n    </tr>\n    <tr>\n      <th>...</th>\n      <td>...</td>\n      <td>...</td>\n      <td>...</td>\n      <td>...</td>\n      <td>...</td>\n      <td>...</td>\n      <td>...</td>\n      <td>...</td>\n      <td>...</td>\n      <td>...</td>\n      <td>...</td>\n      <td>...</td>\n      <td>...</td>\n    </tr>\n    <tr>\n      <th>362000</th>\n      <td>1.517236e-04</td>\n      <td>-2.607703e-06</td>\n      <td>362001</td>\n      <td>2020-8002056</td>\n      <td>NaN</td>\n      <td>NaN</td>\n      <td>2018/12/15 02:16:00</td>\n      <td>2019/09/23 16:18:00</td>\n      <td>2020/01/28 03:24:59</td>\n      <td>5100 Block of spyglass drive DR</td>\n      <td>las vegas nevada</td>\n      <td>NaN</td>\n      <td>PC 530.5(B) Using Another Person's Identifying...</td>\n    </tr>\n    <tr>\n      <th>362001</th>\n      <td>1.517236e-04</td>\n      <td>-2.607703e-06</td>\n      <td>362002</td>\n      <td>2020-8002082</td>\n      <td>NaN</td>\n      <td>NaN</td>\n      <td>2019/11/20 01:01:00</td>\n      <td>2019/11/20 23:58:59</td>\n      <td>2020/01/10 10:44:00</td>\n      <td>8300 Block of MEDEIROS WAY</td>\n      <td>SACRAMENTO</td>\n      <td>95829</td>\n      <td>PC 368(D) Theft of Elder</td>\n    </tr>\n    <tr>\n      <th>362002</th>\n      <td>6.755575e+06</td>\n      <td>2.005506e+06</td>\n      <td>362003</td>\n      <td>2020-8002107</td>\n      <td>North</td>\n      <td>Mercy San Juan</td>\n      <td>2020/01/21 03:00:00</td>\n      <td>2020/01/21 03:14:59</td>\n      <td>2020/01/21 10:28:00</td>\n      <td>6100 Block of Marwick Way</td>\n      <td>Carmichael</td>\n      <td>95608</td>\n      <td>PC 487 Theft from vehicle &gt; $950</td>\n    </tr>\n    <tr>\n      <th>362003</th>\n      <td>6.764044e+06</td>\n      <td>1.997386e+06</td>\n      <td>362004</td>\n      <td>2-0282708</td>\n      <td>Northeast</td>\n      <td>Old Fair Oaks</td>\n      <td>2012/12/20 13:57:00</td>\n      <td>2012/12/20 13:57:00</td>\n      <td>2012/12/20 13:57:00</td>\n      <td>7400 Block of Windin</td>\n      <td>Fair Oaks</td>\n      <td>95628</td>\n      <td>PC 459 Burglary</td>\n    </tr>\n    <tr>\n      <th>362004</th>\n      <td>6.761506e+06</td>\n      <td>1.975871e+06</td>\n      <td>362005</td>\n      <td>3-0219474</td>\n      <td>Rancho Cordova</td>\n      <td>White Rock</td>\n      <td>2019/06/22 17:48:59</td>\n      <td>2019/06/22 19:28:00</td>\n      <td>2019/06/22 17:48:59</td>\n      <td>Evadna Dr &amp; White Rock Rd</td>\n      <td>Rancho Cordova</td>\n      <td>95670</td>\n      <td>HS 11351 Possess/Purchase For Sale Narcotic/Co...</td>\n    </tr>\n  </tbody>\n</table>\n<p>362005 rows × 13 columns</p>\n</div>"
     },
     "metadata": {},
     "execution_count": 5
    }
   ],
   "source": [
    "# Load the Crime CSV\n",
    "crime_csv = \"./Resources/Crime.csv\"\n",
    "crime_df = pd.read_csv(crime_csv)\n",
    "crime_df"
   ]
  },
  {
   "cell_type": "code",
   "execution_count": 11,
   "metadata": {},
   "outputs": [
    {
     "output_type": "execute_result",
     "data": {
      "text/plain": [
       "Int64Index([     9,     55,     63,     64,     70,     78,    106,    221,\n",
       "               225,    376,\n",
       "            ...\n",
       "            360576, 360580, 360711, 361257, 361315, 361496, 361548, 361636,\n",
       "            361894, 362000],\n",
       "           dtype='int64', length=2609)"
      ]
     },
     "metadata": {},
     "execution_count": 11
    }
   ],
   "source": [
    "# Get a list of the indexes where the OccuranceZipCode is empty or NaN\n",
    "crime_zip_eq_null_index = crime_df.index[(crime_df[\"OccurenceZipCode\"] == \"\") | \n",
    "                                         (crime_df[\"OccurenceZipCode\"].isnull()) ]\n",
    "crime_zip_eq_null_index"
   ]
  },
  {
   "cell_type": "code",
   "execution_count": 12,
   "metadata": {},
   "outputs": [
    {
     "output_type": "execute_result",
     "data": {
      "text/plain": [
       "                   X             Y     FID ActivityNumber        District  \\\n",
       "0       6.765513e+06  1.994405e+06       1            NaN             NaN   \n",
       "1       1.517236e-04 -2.607703e-06       2   ]\\=\"-0092335   North Central   \n",
       "2       6.756477e+06  1.974923e+06       3  03/30-0055028            East   \n",
       "3       6.741558e+06  1.960069e+06       4     19-0009846            East   \n",
       "4       6.749211e+06  2.004272e+06       5   1977-0020606           North   \n",
       "...              ...           ...     ...            ...             ...   \n",
       "361999  6.772374e+06  2.000409e+06  362000   2020-8002054           North   \n",
       "362001  1.517236e-04 -2.607703e-06  362002   2020-8002082             NaN   \n",
       "362002  6.755575e+06  2.005506e+06  362003   2020-8002107           North   \n",
       "362003  6.764044e+06  1.997386e+06  362004      2-0282708       Northeast   \n",
       "362004  6.761506e+06  1.975871e+06  362005      3-0219474  Rancho Cordova   \n",
       "\n",
       "             Neighborhood   OccurenceStartDate     OccurenceEndDate  \\\n",
       "0           Old Fair Oaks  2009/03/26 17:10:00  2009/03/26 17:19:59   \n",
       "1         Carmichael Park  2018/03/19 21:30:00  2018/03/19 21:59:59   \n",
       "2         Cordova Meadows  2015/03/06 01:11:00  2015/03/06 01:11:00   \n",
       "3          Rosemont Downs  2019/01/09 08:52:59  2019/01/09 09:04:00   \n",
       "4       Foothill Farms NE  1977/01/01 00:00:00  2001/01/01 00:00:00   \n",
       "...                   ...                  ...                  ...   \n",
       "361999      Old Fair Oaks  2020/01/17 09:00:00  2020/01/17 15:59:59   \n",
       "362001                NaN  2019/11/20 01:01:00  2019/11/20 23:58:59   \n",
       "362002     Mercy San Juan  2020/01/21 03:00:00  2020/01/21 03:14:59   \n",
       "362003      Old Fair Oaks  2012/12/20 13:57:00  2012/12/20 13:57:00   \n",
       "362004         White Rock  2019/06/22 17:48:59  2019/06/22 19:28:00   \n",
       "\n",
       "                 ReportDate           OccurenceLocation   OccurenceCity  \\\n",
       "0       2009/03/26 17:39:00        9300 Block of Fair O       Fair Oaks   \n",
       "1       2018/03/20 17:00:00        5100 Block of Janell      Carmichael   \n",
       "2       2015/03/06 00:00:00        10000 Block of Terra  Rancho Cordova   \n",
       "3       2019/01/09 14:19:00   8900 Block of Canberra Dr      Sacramento   \n",
       "4       2019/08/06 00:00:00   5200 Block of Auburn Blvd      Sacramento   \n",
       "...                     ...                         ...             ...   \n",
       "361999  2020/01/18 13:57:59    8100 Block of Sunset Ave       Fair Oaks   \n",
       "362001  2020/01/10 10:44:00  8300 Block of MEDEIROS WAY      SACRAMENTO   \n",
       "362002  2020/01/21 10:28:00   6100 Block of Marwick Way      Carmichael   \n",
       "362003  2012/12/20 13:57:00        7400 Block of Windin       Fair Oaks   \n",
       "362004  2019/06/22 17:48:59   Evadna Dr & White Rock Rd  Rancho Cordova   \n",
       "\n",
       "       OccurenceZipCode                                   PrimaryViolation  \n",
       "0                 95628              PC 594(B)(1) Vandalism ($400 Or More)  \n",
       "1                 95608                 PC 273.5 Inflict Crpl Inj Sp/Cohab  \n",
       "2                 95670           PC 594(B)(2)(A) Vandalism Less Than $400  \n",
       "3                 95826                                    PC 459 Burglary  \n",
       "4                 95841  PC 261(A)(1) Rape:Victim Incapable Of Giving C...  \n",
       "...                 ...                                                ...  \n",
       "361999            95628                  PC 484G Thft:Use Access Card Data  \n",
       "362001            95829                           PC 368(D) Theft of Elder  \n",
       "362002            95608                   PC 487 Theft from vehicle > $950  \n",
       "362003            95628                                    PC 459 Burglary  \n",
       "362004            95670  HS 11351 Possess/Purchase For Sale Narcotic/Co...  \n",
       "\n",
       "[359396 rows x 13 columns]"
      ],
      "text/html": "<div>\n<style scoped>\n    .dataframe tbody tr th:only-of-type {\n        vertical-align: middle;\n    }\n\n    .dataframe tbody tr th {\n        vertical-align: top;\n    }\n\n    .dataframe thead th {\n        text-align: right;\n    }\n</style>\n<table border=\"1\" class=\"dataframe\">\n  <thead>\n    <tr style=\"text-align: right;\">\n      <th></th>\n      <th>X</th>\n      <th>Y</th>\n      <th>FID</th>\n      <th>ActivityNumber</th>\n      <th>District</th>\n      <th>Neighborhood</th>\n      <th>OccurenceStartDate</th>\n      <th>OccurenceEndDate</th>\n      <th>ReportDate</th>\n      <th>OccurenceLocation</th>\n      <th>OccurenceCity</th>\n      <th>OccurenceZipCode</th>\n      <th>PrimaryViolation</th>\n    </tr>\n  </thead>\n  <tbody>\n    <tr>\n      <th>0</th>\n      <td>6.765513e+06</td>\n      <td>1.994405e+06</td>\n      <td>1</td>\n      <td>NaN</td>\n      <td>NaN</td>\n      <td>Old Fair Oaks</td>\n      <td>2009/03/26 17:10:00</td>\n      <td>2009/03/26 17:19:59</td>\n      <td>2009/03/26 17:39:00</td>\n      <td>9300 Block of Fair O</td>\n      <td>Fair Oaks</td>\n      <td>95628</td>\n      <td>PC 594(B)(1) Vandalism ($400 Or More)</td>\n    </tr>\n    <tr>\n      <th>1</th>\n      <td>1.517236e-04</td>\n      <td>-2.607703e-06</td>\n      <td>2</td>\n      <td>]\\=\"-0092335</td>\n      <td>North Central</td>\n      <td>Carmichael Park</td>\n      <td>2018/03/19 21:30:00</td>\n      <td>2018/03/19 21:59:59</td>\n      <td>2018/03/20 17:00:00</td>\n      <td>5100 Block of Janell</td>\n      <td>Carmichael</td>\n      <td>95608</td>\n      <td>PC 273.5 Inflict Crpl Inj Sp/Cohab</td>\n    </tr>\n    <tr>\n      <th>2</th>\n      <td>6.756477e+06</td>\n      <td>1.974923e+06</td>\n      <td>3</td>\n      <td>03/30-0055028</td>\n      <td>East</td>\n      <td>Cordova Meadows</td>\n      <td>2015/03/06 01:11:00</td>\n      <td>2015/03/06 01:11:00</td>\n      <td>2015/03/06 00:00:00</td>\n      <td>10000 Block of Terra</td>\n      <td>Rancho Cordova</td>\n      <td>95670</td>\n      <td>PC 594(B)(2)(A) Vandalism Less Than $400</td>\n    </tr>\n    <tr>\n      <th>3</th>\n      <td>6.741558e+06</td>\n      <td>1.960069e+06</td>\n      <td>4</td>\n      <td>19-0009846</td>\n      <td>East</td>\n      <td>Rosemont Downs</td>\n      <td>2019/01/09 08:52:59</td>\n      <td>2019/01/09 09:04:00</td>\n      <td>2019/01/09 14:19:00</td>\n      <td>8900 Block of Canberra Dr</td>\n      <td>Sacramento</td>\n      <td>95826</td>\n      <td>PC 459 Burglary</td>\n    </tr>\n    <tr>\n      <th>4</th>\n      <td>6.749211e+06</td>\n      <td>2.004272e+06</td>\n      <td>5</td>\n      <td>1977-0020606</td>\n      <td>North</td>\n      <td>Foothill Farms NE</td>\n      <td>1977/01/01 00:00:00</td>\n      <td>2001/01/01 00:00:00</td>\n      <td>2019/08/06 00:00:00</td>\n      <td>5200 Block of Auburn Blvd</td>\n      <td>Sacramento</td>\n      <td>95841</td>\n      <td>PC 261(A)(1) Rape:Victim Incapable Of Giving C...</td>\n    </tr>\n    <tr>\n      <th>...</th>\n      <td>...</td>\n      <td>...</td>\n      <td>...</td>\n      <td>...</td>\n      <td>...</td>\n      <td>...</td>\n      <td>...</td>\n      <td>...</td>\n      <td>...</td>\n      <td>...</td>\n      <td>...</td>\n      <td>...</td>\n      <td>...</td>\n    </tr>\n    <tr>\n      <th>361999</th>\n      <td>6.772374e+06</td>\n      <td>2.000409e+06</td>\n      <td>362000</td>\n      <td>2020-8002054</td>\n      <td>North</td>\n      <td>Old Fair Oaks</td>\n      <td>2020/01/17 09:00:00</td>\n      <td>2020/01/17 15:59:59</td>\n      <td>2020/01/18 13:57:59</td>\n      <td>8100 Block of Sunset Ave</td>\n      <td>Fair Oaks</td>\n      <td>95628</td>\n      <td>PC 484G Thft:Use Access Card Data</td>\n    </tr>\n    <tr>\n      <th>362001</th>\n      <td>1.517236e-04</td>\n      <td>-2.607703e-06</td>\n      <td>362002</td>\n      <td>2020-8002082</td>\n      <td>NaN</td>\n      <td>NaN</td>\n      <td>2019/11/20 01:01:00</td>\n      <td>2019/11/20 23:58:59</td>\n      <td>2020/01/10 10:44:00</td>\n      <td>8300 Block of MEDEIROS WAY</td>\n      <td>SACRAMENTO</td>\n      <td>95829</td>\n      <td>PC 368(D) Theft of Elder</td>\n    </tr>\n    <tr>\n      <th>362002</th>\n      <td>6.755575e+06</td>\n      <td>2.005506e+06</td>\n      <td>362003</td>\n      <td>2020-8002107</td>\n      <td>North</td>\n      <td>Mercy San Juan</td>\n      <td>2020/01/21 03:00:00</td>\n      <td>2020/01/21 03:14:59</td>\n      <td>2020/01/21 10:28:00</td>\n      <td>6100 Block of Marwick Way</td>\n      <td>Carmichael</td>\n      <td>95608</td>\n      <td>PC 487 Theft from vehicle &gt; $950</td>\n    </tr>\n    <tr>\n      <th>362003</th>\n      <td>6.764044e+06</td>\n      <td>1.997386e+06</td>\n      <td>362004</td>\n      <td>2-0282708</td>\n      <td>Northeast</td>\n      <td>Old Fair Oaks</td>\n      <td>2012/12/20 13:57:00</td>\n      <td>2012/12/20 13:57:00</td>\n      <td>2012/12/20 13:57:00</td>\n      <td>7400 Block of Windin</td>\n      <td>Fair Oaks</td>\n      <td>95628</td>\n      <td>PC 459 Burglary</td>\n    </tr>\n    <tr>\n      <th>362004</th>\n      <td>6.761506e+06</td>\n      <td>1.975871e+06</td>\n      <td>362005</td>\n      <td>3-0219474</td>\n      <td>Rancho Cordova</td>\n      <td>White Rock</td>\n      <td>2019/06/22 17:48:59</td>\n      <td>2019/06/22 19:28:00</td>\n      <td>2019/06/22 17:48:59</td>\n      <td>Evadna Dr &amp; White Rock Rd</td>\n      <td>Rancho Cordova</td>\n      <td>95670</td>\n      <td>HS 11351 Possess/Purchase For Sale Narcotic/Co...</td>\n    </tr>\n  </tbody>\n</table>\n<p>359396 rows × 13 columns</p>\n</div>"
     },
     "metadata": {},
     "execution_count": 12
    }
   ],
   "source": [
    "# Drop the indexes where the OccuranceZipCode is empty or NaN\n",
    "preclean_crime_df = crime_df.drop(crime_zip_eq_null_index, inplace=False)\n",
    "preclean_crime_df"
   ]
  },
  {
   "cell_type": "code",
   "execution_count": 13,
   "metadata": {},
   "outputs": [
    {
     "output_type": "execute_result",
     "data": {
      "text/plain": [
       "                   X             Y     FID ActivityNumber        District  \\\n",
       "0       6.765513e+06  1.994405e+06       1            NaN             NaN   \n",
       "1       1.517236e-04 -2.607703e-06       2   ]\\=\"-0092335   North Central   \n",
       "2       6.756477e+06  1.974923e+06       3  03/30-0055028            East   \n",
       "3       6.741558e+06  1.960069e+06       4     19-0009846            East   \n",
       "4       6.749211e+06  2.004272e+06       5   1977-0020606           North   \n",
       "...              ...           ...     ...            ...             ...   \n",
       "361999  6.772374e+06  2.000409e+06  362000   2020-8002054           North   \n",
       "362001  1.517236e-04 -2.607703e-06  362002   2020-8002082             NaN   \n",
       "362002  6.755575e+06  2.005506e+06  362003   2020-8002107           North   \n",
       "362003  6.764044e+06  1.997386e+06  362004      2-0282708       Northeast   \n",
       "362004  6.761506e+06  1.975871e+06  362005      3-0219474  Rancho Cordova   \n",
       "\n",
       "             Neighborhood   OccurenceStartDate     OccurenceEndDate  \\\n",
       "0           Old Fair Oaks  2009/03/26 17:10:00  2009/03/26 17:19:59   \n",
       "1         Carmichael Park  2018/03/19 21:30:00  2018/03/19 21:59:59   \n",
       "2         Cordova Meadows  2015/03/06 01:11:00  2015/03/06 01:11:00   \n",
       "3          Rosemont Downs  2019/01/09 08:52:59  2019/01/09 09:04:00   \n",
       "4       Foothill Farms NE  1977/01/01 00:00:00  2001/01/01 00:00:00   \n",
       "...                   ...                  ...                  ...   \n",
       "361999      Old Fair Oaks  2020/01/17 09:00:00  2020/01/17 15:59:59   \n",
       "362001                NaN  2019/11/20 01:01:00  2019/11/20 23:58:59   \n",
       "362002     Mercy San Juan  2020/01/21 03:00:00  2020/01/21 03:14:59   \n",
       "362003      Old Fair Oaks  2012/12/20 13:57:00  2012/12/20 13:57:00   \n",
       "362004         White Rock  2019/06/22 17:48:59  2019/06/22 19:28:00   \n",
       "\n",
       "                 ReportDate           OccurenceLocation   OccurenceCity  \\\n",
       "0       2009/03/26 17:39:00        9300 Block of Fair O       Fair Oaks   \n",
       "1       2018/03/20 17:00:00        5100 Block of Janell      Carmichael   \n",
       "2       2015/03/06 00:00:00        10000 Block of Terra  Rancho Cordova   \n",
       "3       2019/01/09 14:19:00   8900 Block of Canberra Dr      Sacramento   \n",
       "4       2019/08/06 00:00:00   5200 Block of Auburn Blvd      Sacramento   \n",
       "...                     ...                         ...             ...   \n",
       "361999  2020/01/18 13:57:59    8100 Block of Sunset Ave       Fair Oaks   \n",
       "362001  2020/01/10 10:44:00  8300 Block of MEDEIROS WAY      SACRAMENTO   \n",
       "362002  2020/01/21 10:28:00   6100 Block of Marwick Way      Carmichael   \n",
       "362003  2012/12/20 13:57:00        7400 Block of Windin       Fair Oaks   \n",
       "362004  2019/06/22 17:48:59   Evadna Dr & White Rock Rd  Rancho Cordova   \n",
       "\n",
       "       ZipCode                                   PrimaryViolation  \n",
       "0        95628              PC 594(B)(1) Vandalism ($400 Or More)  \n",
       "1        95608                 PC 273.5 Inflict Crpl Inj Sp/Cohab  \n",
       "2        95670           PC 594(B)(2)(A) Vandalism Less Than $400  \n",
       "3        95826                                    PC 459 Burglary  \n",
       "4        95841  PC 261(A)(1) Rape:Victim Incapable Of Giving C...  \n",
       "...        ...                                                ...  \n",
       "361999   95628                  PC 484G Thft:Use Access Card Data  \n",
       "362001   95829                           PC 368(D) Theft of Elder  \n",
       "362002   95608                   PC 487 Theft from vehicle > $950  \n",
       "362003   95628                                    PC 459 Burglary  \n",
       "362004   95670  HS 11351 Possess/Purchase For Sale Narcotic/Co...  \n",
       "\n",
       "[359396 rows x 13 columns]"
      ],
      "text/html": "<div>\n<style scoped>\n    .dataframe tbody tr th:only-of-type {\n        vertical-align: middle;\n    }\n\n    .dataframe tbody tr th {\n        vertical-align: top;\n    }\n\n    .dataframe thead th {\n        text-align: right;\n    }\n</style>\n<table border=\"1\" class=\"dataframe\">\n  <thead>\n    <tr style=\"text-align: right;\">\n      <th></th>\n      <th>X</th>\n      <th>Y</th>\n      <th>FID</th>\n      <th>ActivityNumber</th>\n      <th>District</th>\n      <th>Neighborhood</th>\n      <th>OccurenceStartDate</th>\n      <th>OccurenceEndDate</th>\n      <th>ReportDate</th>\n      <th>OccurenceLocation</th>\n      <th>OccurenceCity</th>\n      <th>ZipCode</th>\n      <th>PrimaryViolation</th>\n    </tr>\n  </thead>\n  <tbody>\n    <tr>\n      <th>0</th>\n      <td>6.765513e+06</td>\n      <td>1.994405e+06</td>\n      <td>1</td>\n      <td>NaN</td>\n      <td>NaN</td>\n      <td>Old Fair Oaks</td>\n      <td>2009/03/26 17:10:00</td>\n      <td>2009/03/26 17:19:59</td>\n      <td>2009/03/26 17:39:00</td>\n      <td>9300 Block of Fair O</td>\n      <td>Fair Oaks</td>\n      <td>95628</td>\n      <td>PC 594(B)(1) Vandalism ($400 Or More)</td>\n    </tr>\n    <tr>\n      <th>1</th>\n      <td>1.517236e-04</td>\n      <td>-2.607703e-06</td>\n      <td>2</td>\n      <td>]\\=\"-0092335</td>\n      <td>North Central</td>\n      <td>Carmichael Park</td>\n      <td>2018/03/19 21:30:00</td>\n      <td>2018/03/19 21:59:59</td>\n      <td>2018/03/20 17:00:00</td>\n      <td>5100 Block of Janell</td>\n      <td>Carmichael</td>\n      <td>95608</td>\n      <td>PC 273.5 Inflict Crpl Inj Sp/Cohab</td>\n    </tr>\n    <tr>\n      <th>2</th>\n      <td>6.756477e+06</td>\n      <td>1.974923e+06</td>\n      <td>3</td>\n      <td>03/30-0055028</td>\n      <td>East</td>\n      <td>Cordova Meadows</td>\n      <td>2015/03/06 01:11:00</td>\n      <td>2015/03/06 01:11:00</td>\n      <td>2015/03/06 00:00:00</td>\n      <td>10000 Block of Terra</td>\n      <td>Rancho Cordova</td>\n      <td>95670</td>\n      <td>PC 594(B)(2)(A) Vandalism Less Than $400</td>\n    </tr>\n    <tr>\n      <th>3</th>\n      <td>6.741558e+06</td>\n      <td>1.960069e+06</td>\n      <td>4</td>\n      <td>19-0009846</td>\n      <td>East</td>\n      <td>Rosemont Downs</td>\n      <td>2019/01/09 08:52:59</td>\n      <td>2019/01/09 09:04:00</td>\n      <td>2019/01/09 14:19:00</td>\n      <td>8900 Block of Canberra Dr</td>\n      <td>Sacramento</td>\n      <td>95826</td>\n      <td>PC 459 Burglary</td>\n    </tr>\n    <tr>\n      <th>4</th>\n      <td>6.749211e+06</td>\n      <td>2.004272e+06</td>\n      <td>5</td>\n      <td>1977-0020606</td>\n      <td>North</td>\n      <td>Foothill Farms NE</td>\n      <td>1977/01/01 00:00:00</td>\n      <td>2001/01/01 00:00:00</td>\n      <td>2019/08/06 00:00:00</td>\n      <td>5200 Block of Auburn Blvd</td>\n      <td>Sacramento</td>\n      <td>95841</td>\n      <td>PC 261(A)(1) Rape:Victim Incapable Of Giving C...</td>\n    </tr>\n    <tr>\n      <th>...</th>\n      <td>...</td>\n      <td>...</td>\n      <td>...</td>\n      <td>...</td>\n      <td>...</td>\n      <td>...</td>\n      <td>...</td>\n      <td>...</td>\n      <td>...</td>\n      <td>...</td>\n      <td>...</td>\n      <td>...</td>\n      <td>...</td>\n    </tr>\n    <tr>\n      <th>361999</th>\n      <td>6.772374e+06</td>\n      <td>2.000409e+06</td>\n      <td>362000</td>\n      <td>2020-8002054</td>\n      <td>North</td>\n      <td>Old Fair Oaks</td>\n      <td>2020/01/17 09:00:00</td>\n      <td>2020/01/17 15:59:59</td>\n      <td>2020/01/18 13:57:59</td>\n      <td>8100 Block of Sunset Ave</td>\n      <td>Fair Oaks</td>\n      <td>95628</td>\n      <td>PC 484G Thft:Use Access Card Data</td>\n    </tr>\n    <tr>\n      <th>362001</th>\n      <td>1.517236e-04</td>\n      <td>-2.607703e-06</td>\n      <td>362002</td>\n      <td>2020-8002082</td>\n      <td>NaN</td>\n      <td>NaN</td>\n      <td>2019/11/20 01:01:00</td>\n      <td>2019/11/20 23:58:59</td>\n      <td>2020/01/10 10:44:00</td>\n      <td>8300 Block of MEDEIROS WAY</td>\n      <td>SACRAMENTO</td>\n      <td>95829</td>\n      <td>PC 368(D) Theft of Elder</td>\n    </tr>\n    <tr>\n      <th>362002</th>\n      <td>6.755575e+06</td>\n      <td>2.005506e+06</td>\n      <td>362003</td>\n      <td>2020-8002107</td>\n      <td>North</td>\n      <td>Mercy San Juan</td>\n      <td>2020/01/21 03:00:00</td>\n      <td>2020/01/21 03:14:59</td>\n      <td>2020/01/21 10:28:00</td>\n      <td>6100 Block of Marwick Way</td>\n      <td>Carmichael</td>\n      <td>95608</td>\n      <td>PC 487 Theft from vehicle &gt; $950</td>\n    </tr>\n    <tr>\n      <th>362003</th>\n      <td>6.764044e+06</td>\n      <td>1.997386e+06</td>\n      <td>362004</td>\n      <td>2-0282708</td>\n      <td>Northeast</td>\n      <td>Old Fair Oaks</td>\n      <td>2012/12/20 13:57:00</td>\n      <td>2012/12/20 13:57:00</td>\n      <td>2012/12/20 13:57:00</td>\n      <td>7400 Block of Windin</td>\n      <td>Fair Oaks</td>\n      <td>95628</td>\n      <td>PC 459 Burglary</td>\n    </tr>\n    <tr>\n      <th>362004</th>\n      <td>6.761506e+06</td>\n      <td>1.975871e+06</td>\n      <td>362005</td>\n      <td>3-0219474</td>\n      <td>Rancho Cordova</td>\n      <td>White Rock</td>\n      <td>2019/06/22 17:48:59</td>\n      <td>2019/06/22 19:28:00</td>\n      <td>2019/06/22 17:48:59</td>\n      <td>Evadna Dr &amp; White Rock Rd</td>\n      <td>Rancho Cordova</td>\n      <td>95670</td>\n      <td>HS 11351 Possess/Purchase For Sale Narcotic/Co...</td>\n    </tr>\n  </tbody>\n</table>\n<p>359396 rows × 13 columns</p>\n</div>"
     },
     "metadata": {},
     "execution_count": 13
    }
   ],
   "source": [
    "# Rename OccuranceZipCode to just ZipCode\n",
    "preclean_crime_df = preclean_crime_df.rename(columns={\"OccurenceZipCode\": \"ZipCode\"})\n",
    "preclean_crime_df"
   ]
  },
  {
   "cell_type": "code",
   "execution_count": 16,
   "metadata": {},
   "outputs": [
    {
     "output_type": "execute_result",
     "data": {
      "text/plain": [
       "              X             Y  FID ActivityNumber       District  \\\n",
       "0  6.765513e+06  1.994405e+06    1            NaN            NaN   \n",
       "1  1.517236e-04 -2.607703e-06    2   ]\\=\"-0092335  North Central   \n",
       "2  6.756477e+06  1.974923e+06    3  03/30-0055028           East   \n",
       "3  6.741558e+06  1.960069e+06    4     19-0009846           East   \n",
       "4  6.749211e+06  2.004272e+06    5   1977-0020606          North   \n",
       "\n",
       "        Neighborhood   OccurenceStartDate     OccurenceEndDate  \\\n",
       "0      Old Fair Oaks  2009/03/26 17:10:00  2009/03/26 17:19:59   \n",
       "1    Carmichael Park  2018/03/19 21:30:00  2018/03/19 21:59:59   \n",
       "2    Cordova Meadows  2015/03/06 01:11:00  2015/03/06 01:11:00   \n",
       "3     Rosemont Downs  2019/01/09 08:52:59  2019/01/09 09:04:00   \n",
       "4  Foothill Farms NE  1977/01/01 00:00:00  2001/01/01 00:00:00   \n",
       "\n",
       "            ReportDate          OccurenceLocation   OccurenceCity ZipCode  \\\n",
       "0  2009/03/26 17:39:00       9300 Block of Fair O       Fair Oaks   95628   \n",
       "1  2018/03/20 17:00:00       5100 Block of Janell      Carmichael   95608   \n",
       "2  2015/03/06 00:00:00       10000 Block of Terra  Rancho Cordova   95670   \n",
       "3  2019/01/09 14:19:00  8900 Block of Canberra Dr      Sacramento   95826   \n",
       "4  2019/08/06 00:00:00  5200 Block of Auburn Blvd      Sacramento   95841   \n",
       "\n",
       "                                    PrimaryViolation            DateTime  Year  \n",
       "0              PC 594(B)(1) Vandalism ($400 Or More) 2009-03-26 17:10:00  2009  \n",
       "1                 PC 273.5 Inflict Crpl Inj Sp/Cohab 2018-03-19 21:30:00  2018  \n",
       "2           PC 594(B)(2)(A) Vandalism Less Than $400 2015-03-06 01:11:00  2015  \n",
       "3                                    PC 459 Burglary 2019-01-09 08:52:59  2019  \n",
       "4  PC 261(A)(1) Rape:Victim Incapable Of Giving C... 1977-01-01 00:00:00  1977  "
      ],
      "text/html": "<div>\n<style scoped>\n    .dataframe tbody tr th:only-of-type {\n        vertical-align: middle;\n    }\n\n    .dataframe tbody tr th {\n        vertical-align: top;\n    }\n\n    .dataframe thead th {\n        text-align: right;\n    }\n</style>\n<table border=\"1\" class=\"dataframe\">\n  <thead>\n    <tr style=\"text-align: right;\">\n      <th></th>\n      <th>X</th>\n      <th>Y</th>\n      <th>FID</th>\n      <th>ActivityNumber</th>\n      <th>District</th>\n      <th>Neighborhood</th>\n      <th>OccurenceStartDate</th>\n      <th>OccurenceEndDate</th>\n      <th>ReportDate</th>\n      <th>OccurenceLocation</th>\n      <th>OccurenceCity</th>\n      <th>ZipCode</th>\n      <th>PrimaryViolation</th>\n      <th>DateTime</th>\n      <th>Year</th>\n    </tr>\n  </thead>\n  <tbody>\n    <tr>\n      <th>0</th>\n      <td>6.765513e+06</td>\n      <td>1.994405e+06</td>\n      <td>1</td>\n      <td>NaN</td>\n      <td>NaN</td>\n      <td>Old Fair Oaks</td>\n      <td>2009/03/26 17:10:00</td>\n      <td>2009/03/26 17:19:59</td>\n      <td>2009/03/26 17:39:00</td>\n      <td>9300 Block of Fair O</td>\n      <td>Fair Oaks</td>\n      <td>95628</td>\n      <td>PC 594(B)(1) Vandalism ($400 Or More)</td>\n      <td>2009-03-26 17:10:00</td>\n      <td>2009</td>\n    </tr>\n    <tr>\n      <th>1</th>\n      <td>1.517236e-04</td>\n      <td>-2.607703e-06</td>\n      <td>2</td>\n      <td>]\\=\"-0092335</td>\n      <td>North Central</td>\n      <td>Carmichael Park</td>\n      <td>2018/03/19 21:30:00</td>\n      <td>2018/03/19 21:59:59</td>\n      <td>2018/03/20 17:00:00</td>\n      <td>5100 Block of Janell</td>\n      <td>Carmichael</td>\n      <td>95608</td>\n      <td>PC 273.5 Inflict Crpl Inj Sp/Cohab</td>\n      <td>2018-03-19 21:30:00</td>\n      <td>2018</td>\n    </tr>\n    <tr>\n      <th>2</th>\n      <td>6.756477e+06</td>\n      <td>1.974923e+06</td>\n      <td>3</td>\n      <td>03/30-0055028</td>\n      <td>East</td>\n      <td>Cordova Meadows</td>\n      <td>2015/03/06 01:11:00</td>\n      <td>2015/03/06 01:11:00</td>\n      <td>2015/03/06 00:00:00</td>\n      <td>10000 Block of Terra</td>\n      <td>Rancho Cordova</td>\n      <td>95670</td>\n      <td>PC 594(B)(2)(A) Vandalism Less Than $400</td>\n      <td>2015-03-06 01:11:00</td>\n      <td>2015</td>\n    </tr>\n    <tr>\n      <th>3</th>\n      <td>6.741558e+06</td>\n      <td>1.960069e+06</td>\n      <td>4</td>\n      <td>19-0009846</td>\n      <td>East</td>\n      <td>Rosemont Downs</td>\n      <td>2019/01/09 08:52:59</td>\n      <td>2019/01/09 09:04:00</td>\n      <td>2019/01/09 14:19:00</td>\n      <td>8900 Block of Canberra Dr</td>\n      <td>Sacramento</td>\n      <td>95826</td>\n      <td>PC 459 Burglary</td>\n      <td>2019-01-09 08:52:59</td>\n      <td>2019</td>\n    </tr>\n    <tr>\n      <th>4</th>\n      <td>6.749211e+06</td>\n      <td>2.004272e+06</td>\n      <td>5</td>\n      <td>1977-0020606</td>\n      <td>North</td>\n      <td>Foothill Farms NE</td>\n      <td>1977/01/01 00:00:00</td>\n      <td>2001/01/01 00:00:00</td>\n      <td>2019/08/06 00:00:00</td>\n      <td>5200 Block of Auburn Blvd</td>\n      <td>Sacramento</td>\n      <td>95841</td>\n      <td>PC 261(A)(1) Rape:Victim Incapable Of Giving C...</td>\n      <td>1977-01-01 00:00:00</td>\n      <td>1977</td>\n    </tr>\n  </tbody>\n</table>\n</div>"
     },
     "metadata": {},
     "execution_count": 16
    }
   ],
   "source": [
    "# Just Grab the year from the date stamps and make a new column for it\n",
    "preclean_crime_df[\"DateTime\"] = pd.to_datetime(preclean_crime_df[\"OccurenceStartDate\"])\n",
    "preclean_crime_df[\"Year\"] = preclean_crime_df[\"DateTime\"].dt.year\n",
    "preclean_crime_df.head()"
   ]
  },
  {
   "cell_type": "code",
   "execution_count": 19,
   "metadata": {},
   "outputs": [
    {
     "output_type": "execute_result",
     "data": {
      "text/plain": [
       "                   X             Y     FID ActivityNumber        District  \\\n",
       "1       1.517236e-04 -2.607703e-06       2   ]\\=\"-0092335   North Central   \n",
       "2       6.756477e+06  1.974923e+06       3  03/30-0055028            East   \n",
       "3       6.741558e+06  1.960069e+06       4     19-0009846            East   \n",
       "218368  6.753071e+06  1.967571e+06  218369   2013-0289868            East   \n",
       "226870  6.754609e+06  1.968828e+06  226871   2014-0000030            East   \n",
       "...              ...           ...     ...            ...             ...   \n",
       "361972  6.728830e+06  1.974207e+06  361973   2020-8001802   North Central   \n",
       "361979  6.744194e+06  1.973256e+06  361980   2020-8001952   North Central   \n",
       "361992  6.743273e+06  2.015376e+06  361993   2020-8002039       Northwest   \n",
       "362001  1.517236e-04 -2.607703e-06  362002   2020-8002082             NaN   \n",
       "362004  6.761506e+06  1.975871e+06  362005      3-0219474  Rancho Cordova   \n",
       "\n",
       "             Neighborhood   OccurenceStartDate     OccurenceEndDate  \\\n",
       "1         Carmichael Park  2018/03/19 21:30:00  2018/03/19 21:59:59   \n",
       "2         Cordova Meadows  2015/03/06 01:11:00  2015/03/06 01:11:00   \n",
       "3          Rosemont Downs  2019/01/09 08:52:59  2019/01/09 09:04:00   \n",
       "218368    Lincoln Village  2014/01/01 12:56:00  2014/01/01 01:44:59   \n",
       "226870    Lincoln Village  2014/01/01 00:14:59  2014/01/01 00:14:59   \n",
       "...                   ...                  ...                  ...   \n",
       "361972  Fair Lake Village  2019/12/30 23:00:00  2019/12/31 00:01:00   \n",
       "361979          Wilhaggin  2019/12/21 01:25:00  2019/12/21 01:25:59   \n",
       "361992    North Highlands  2019/12/10 18:00:00  2019/12/10 18:00:00   \n",
       "362001                NaN  2019/11/20 01:01:00  2019/11/20 23:58:59   \n",
       "362004         White Rock  2019/06/22 17:48:59  2019/06/22 19:28:00   \n",
       "\n",
       "                 ReportDate            OccurenceLocation   OccurenceCity  \\\n",
       "1       2018/03/20 17:00:00         5100 Block of Janell      Carmichael   \n",
       "2       2015/03/06 00:00:00         10000 Block of Terra  Rancho Cordova   \n",
       "3       2019/01/09 14:19:00    8900 Block of Canberra Dr      Sacramento   \n",
       "218368  2014/01/01 01:44:59         Egmont Way & Viking       Sacramento   \n",
       "226870  2014/01/01 00:42:00         3300 Block of Explor      Sacramento   \n",
       "...                     ...                          ...             ...   \n",
       "361972  2020/01/06 16:31:59        900 Block of Howe Ave      Sacramento   \n",
       "361979  2020/01/07 10:40:00      4400 Block of Ashton Dr      Sacramento   \n",
       "361992  2020/01/13 14:52:59  W Elkhorn Blvd & Walerga Rd      Sacramento   \n",
       "362001  2020/01/10 10:44:00   8300 Block of MEDEIROS WAY      SACRAMENTO   \n",
       "362004  2019/06/22 17:48:59    Evadna Dr & White Rock Rd  Rancho Cordova   \n",
       "\n",
       "       ZipCode                                   PrimaryViolation  \\\n",
       "1        95608                 PC 273.5 Inflict Crpl Inj Sp/Cohab   \n",
       "2        95670           PC 594(B)(2)(A) Vandalism Less Than $400   \n",
       "3        95826                                    PC 459 Burglary   \n",
       "218368   95827                      VC 23152(A) Dui Alcohol/Drugs   \n",
       "226870   95827     PC 246 Shoot At Inhabited Dwelling/Vehicle/Etc   \n",
       "...        ...                                                ...   \n",
       "361972   95825  PC 530.5(B) Using Another Person's Identifying...   \n",
       "361979   95864                  PC 484 Theft from building < $950   \n",
       "361992   95842                      PC 484 Theft All Other < $950   \n",
       "362001   95829                           PC 368(D) Theft of Elder   \n",
       "362004   95670  HS 11351 Possess/Purchase For Sale Narcotic/Co...   \n",
       "\n",
       "                  DateTime  Year  \n",
       "1      2018-03-19 21:30:00  2018  \n",
       "2      2015-03-06 01:11:00  2015  \n",
       "3      2019-01-09 08:52:59  2019  \n",
       "218368 2014-01-01 12:56:00  2014  \n",
       "226870 2014-01-01 00:14:59  2014  \n",
       "...                    ...   ...  \n",
       "361972 2019-12-30 23:00:00  2019  \n",
       "361979 2019-12-21 01:25:00  2019  \n",
       "361992 2019-12-10 18:00:00  2019  \n",
       "362001 2019-11-20 01:01:00  2019  \n",
       "362004 2019-06-22 17:48:59  2019  \n",
       "\n",
       "[131735 rows x 15 columns]"
      ],
      "text/html": "<div>\n<style scoped>\n    .dataframe tbody tr th:only-of-type {\n        vertical-align: middle;\n    }\n\n    .dataframe tbody tr th {\n        vertical-align: top;\n    }\n\n    .dataframe thead th {\n        text-align: right;\n    }\n</style>\n<table border=\"1\" class=\"dataframe\">\n  <thead>\n    <tr style=\"text-align: right;\">\n      <th></th>\n      <th>X</th>\n      <th>Y</th>\n      <th>FID</th>\n      <th>ActivityNumber</th>\n      <th>District</th>\n      <th>Neighborhood</th>\n      <th>OccurenceStartDate</th>\n      <th>OccurenceEndDate</th>\n      <th>ReportDate</th>\n      <th>OccurenceLocation</th>\n      <th>OccurenceCity</th>\n      <th>ZipCode</th>\n      <th>PrimaryViolation</th>\n      <th>DateTime</th>\n      <th>Year</th>\n    </tr>\n  </thead>\n  <tbody>\n    <tr>\n      <th>1</th>\n      <td>1.517236e-04</td>\n      <td>-2.607703e-06</td>\n      <td>2</td>\n      <td>]\\=\"-0092335</td>\n      <td>North Central</td>\n      <td>Carmichael Park</td>\n      <td>2018/03/19 21:30:00</td>\n      <td>2018/03/19 21:59:59</td>\n      <td>2018/03/20 17:00:00</td>\n      <td>5100 Block of Janell</td>\n      <td>Carmichael</td>\n      <td>95608</td>\n      <td>PC 273.5 Inflict Crpl Inj Sp/Cohab</td>\n      <td>2018-03-19 21:30:00</td>\n      <td>2018</td>\n    </tr>\n    <tr>\n      <th>2</th>\n      <td>6.756477e+06</td>\n      <td>1.974923e+06</td>\n      <td>3</td>\n      <td>03/30-0055028</td>\n      <td>East</td>\n      <td>Cordova Meadows</td>\n      <td>2015/03/06 01:11:00</td>\n      <td>2015/03/06 01:11:00</td>\n      <td>2015/03/06 00:00:00</td>\n      <td>10000 Block of Terra</td>\n      <td>Rancho Cordova</td>\n      <td>95670</td>\n      <td>PC 594(B)(2)(A) Vandalism Less Than $400</td>\n      <td>2015-03-06 01:11:00</td>\n      <td>2015</td>\n    </tr>\n    <tr>\n      <th>3</th>\n      <td>6.741558e+06</td>\n      <td>1.960069e+06</td>\n      <td>4</td>\n      <td>19-0009846</td>\n      <td>East</td>\n      <td>Rosemont Downs</td>\n      <td>2019/01/09 08:52:59</td>\n      <td>2019/01/09 09:04:00</td>\n      <td>2019/01/09 14:19:00</td>\n      <td>8900 Block of Canberra Dr</td>\n      <td>Sacramento</td>\n      <td>95826</td>\n      <td>PC 459 Burglary</td>\n      <td>2019-01-09 08:52:59</td>\n      <td>2019</td>\n    </tr>\n    <tr>\n      <th>218368</th>\n      <td>6.753071e+06</td>\n      <td>1.967571e+06</td>\n      <td>218369</td>\n      <td>2013-0289868</td>\n      <td>East</td>\n      <td>Lincoln Village</td>\n      <td>2014/01/01 12:56:00</td>\n      <td>2014/01/01 01:44:59</td>\n      <td>2014/01/01 01:44:59</td>\n      <td>Egmont Way &amp; Viking</td>\n      <td>Sacramento</td>\n      <td>95827</td>\n      <td>VC 23152(A) Dui Alcohol/Drugs</td>\n      <td>2014-01-01 12:56:00</td>\n      <td>2014</td>\n    </tr>\n    <tr>\n      <th>226870</th>\n      <td>6.754609e+06</td>\n      <td>1.968828e+06</td>\n      <td>226871</td>\n      <td>2014-0000030</td>\n      <td>East</td>\n      <td>Lincoln Village</td>\n      <td>2014/01/01 00:14:59</td>\n      <td>2014/01/01 00:14:59</td>\n      <td>2014/01/01 00:42:00</td>\n      <td>3300 Block of Explor</td>\n      <td>Sacramento</td>\n      <td>95827</td>\n      <td>PC 246 Shoot At Inhabited Dwelling/Vehicle/Etc</td>\n      <td>2014-01-01 00:14:59</td>\n      <td>2014</td>\n    </tr>\n    <tr>\n      <th>...</th>\n      <td>...</td>\n      <td>...</td>\n      <td>...</td>\n      <td>...</td>\n      <td>...</td>\n      <td>...</td>\n      <td>...</td>\n      <td>...</td>\n      <td>...</td>\n      <td>...</td>\n      <td>...</td>\n      <td>...</td>\n      <td>...</td>\n      <td>...</td>\n      <td>...</td>\n    </tr>\n    <tr>\n      <th>361972</th>\n      <td>6.728830e+06</td>\n      <td>1.974207e+06</td>\n      <td>361973</td>\n      <td>2020-8001802</td>\n      <td>North Central</td>\n      <td>Fair Lake Village</td>\n      <td>2019/12/30 23:00:00</td>\n      <td>2019/12/31 00:01:00</td>\n      <td>2020/01/06 16:31:59</td>\n      <td>900 Block of Howe Ave</td>\n      <td>Sacramento</td>\n      <td>95825</td>\n      <td>PC 530.5(B) Using Another Person's Identifying...</td>\n      <td>2019-12-30 23:00:00</td>\n      <td>2019</td>\n    </tr>\n    <tr>\n      <th>361979</th>\n      <td>6.744194e+06</td>\n      <td>1.973256e+06</td>\n      <td>361980</td>\n      <td>2020-8001952</td>\n      <td>North Central</td>\n      <td>Wilhaggin</td>\n      <td>2019/12/21 01:25:00</td>\n      <td>2019/12/21 01:25:59</td>\n      <td>2020/01/07 10:40:00</td>\n      <td>4400 Block of Ashton Dr</td>\n      <td>Sacramento</td>\n      <td>95864</td>\n      <td>PC 484 Theft from building &lt; $950</td>\n      <td>2019-12-21 01:25:00</td>\n      <td>2019</td>\n    </tr>\n    <tr>\n      <th>361992</th>\n      <td>6.743273e+06</td>\n      <td>2.015376e+06</td>\n      <td>361993</td>\n      <td>2020-8002039</td>\n      <td>Northwest</td>\n      <td>North Highlands</td>\n      <td>2019/12/10 18:00:00</td>\n      <td>2019/12/10 18:00:00</td>\n      <td>2020/01/13 14:52:59</td>\n      <td>W Elkhorn Blvd &amp; Walerga Rd</td>\n      <td>Sacramento</td>\n      <td>95842</td>\n      <td>PC 484 Theft All Other &lt; $950</td>\n      <td>2019-12-10 18:00:00</td>\n      <td>2019</td>\n    </tr>\n    <tr>\n      <th>362001</th>\n      <td>1.517236e-04</td>\n      <td>-2.607703e-06</td>\n      <td>362002</td>\n      <td>2020-8002082</td>\n      <td>NaN</td>\n      <td>NaN</td>\n      <td>2019/11/20 01:01:00</td>\n      <td>2019/11/20 23:58:59</td>\n      <td>2020/01/10 10:44:00</td>\n      <td>8300 Block of MEDEIROS WAY</td>\n      <td>SACRAMENTO</td>\n      <td>95829</td>\n      <td>PC 368(D) Theft of Elder</td>\n      <td>2019-11-20 01:01:00</td>\n      <td>2019</td>\n    </tr>\n    <tr>\n      <th>362004</th>\n      <td>6.761506e+06</td>\n      <td>1.975871e+06</td>\n      <td>362005</td>\n      <td>3-0219474</td>\n      <td>Rancho Cordova</td>\n      <td>White Rock</td>\n      <td>2019/06/22 17:48:59</td>\n      <td>2019/06/22 19:28:00</td>\n      <td>2019/06/22 17:48:59</td>\n      <td>Evadna Dr &amp; White Rock Rd</td>\n      <td>Rancho Cordova</td>\n      <td>95670</td>\n      <td>HS 11351 Possess/Purchase For Sale Narcotic/Co...</td>\n      <td>2019-06-22 17:48:59</td>\n      <td>2019</td>\n    </tr>\n  </tbody>\n</table>\n<p>131735 rows × 15 columns</p>\n</div>"
     },
     "metadata": {},
     "execution_count": 19
    }
   ],
   "source": [
    "# Just Grab years 2014-2019\n",
    "preclean_crime_years_filter = preclean_crime_df[\"Year\"].isin([2014, 2015, 2016, 2017, 2018, 2019])\n",
    "preclean_crime_years_df = preclean_crime_df[preclean_crime_years_filter]\n",
    "preclean_crime_years_df"
   ]
  },
  {
   "cell_type": "code",
   "execution_count": null,
   "metadata": {},
   "outputs": [],
   "source": []
  }
 ]
}