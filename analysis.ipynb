{
 "metadata": {
  "language_info": {
   "codemirror_mode": {
    "name": "ipython",
    "version": 3
   },
   "file_extension": ".py",
   "mimetype": "text/x-python",
   "name": "python",
   "nbconvert_exporter": "python",
   "pygments_lexer": "ipython3",
   "version": "3.8.3-final"
  },
  "orig_nbformat": 2,
  "kernelspec": {
   "name": "python3",
   "display_name": "Python 3"
  }
 },
 "nbformat": 4,
 "nbformat_minor": 2,
 "cells": [
  {
   "cell_type": "code",
   "execution_count": 3,
   "metadata": {},
   "outputs": [],
   "source": [
    "# Dependencies and Setup\n",
    "import matplotlib.pyplot as plt\n",
    "import pandas as pd\n",
    "import scipy.stats as stats\n",
    "from scipy.stats import linregress\n",
    "from config import api_key\n"
   ]
  },
  {
   "cell_type": "code",
   "execution_count": 4,
   "metadata": {},
   "outputs": [
    {
     "output_type": "execute_result",
     "data": {
      "text/plain": [
       "              X             Y     FID ActivityNumber       District  \\\n",
       "0  1.517236e-04 -2.607703e-06       2   ]\\=\"-0092335  North Central   \n",
       "1  6.756477e+06  1.974923e+06       3  03/30-0055028           East   \n",
       "2  6.754609e+06  1.968828e+06  226871   2014-0000030           East   \n",
       "3  6.747809e+06  1.969023e+06  226872   2014-0000031      Elk Grove   \n",
       "4  6.728042e+06  1.985577e+06  226874   2014-0000033  North Central   \n",
       "\n",
       "      Neighborhood   OccurenceStartDate     OccurenceEndDate  \\\n",
       "0  Carmichael Park  2018/03/19 21:30:00  2018/03/19 21:59:59   \n",
       "1  Cordova Meadows  2015/03/06 01:11:00  2015/03/06 01:11:00   \n",
       "2  Lincoln Village  2014/01/01 00:14:59  2014/01/01 00:14:59   \n",
       "3      Butterfield  2014/01/01 00:27:00  2014/01/01 00:27:00   \n",
       "4         Bellview  2014/01/01 00:24:59  2014/01/01 00:27:00   \n",
       "\n",
       "            ReportDate     OccurenceLocation   OccurenceCity  ZipCode  \\\n",
       "0  2018/03/20 17:00:00  5100 Block of Janell      Carmichael    95608   \n",
       "1  2015/03/06 00:00:00  10000 Block of Terra  Rancho Cordova    95670   \n",
       "2  2014/01/01 00:42:00  3300 Block of Explor      Sacramento    95827   \n",
       "3  2014/01/01 00:30:00  9300 Block of Mira D      Sacramento    95827   \n",
       "4  2014/01/01 00:48:00  2600 Block of Darwin      Sacramento    95821   \n",
       "\n",
       "                                 PrimaryViolation             DateTime  Year  \\\n",
       "0              PC 273.5 Inflict Crpl Inj Sp/Cohab  2018-03-19 21:30:00  2018   \n",
       "1        PC 594(B)(2)(A) Vandalism Less Than $400  2015-03-06 01:11:00  2015   \n",
       "2  PC 246 Shoot At Inhabited Dwelling/Vehicle/Etc  2014-01-01 00:14:59  2014   \n",
       "3                                 PC 459 Burglary  2014-01-01 00:27:00  2014   \n",
       "4                             PC 594(A) Vandalism  2014-01-01 00:24:59  2014   \n",
       "\n",
       "      PC  \n",
       "0  273.5  \n",
       "1  594.0  \n",
       "2  246.0  \n",
       "3  459.0  \n",
       "4  594.0  "
      ],
      "text/html": "<div>\n<style scoped>\n    .dataframe tbody tr th:only-of-type {\n        vertical-align: middle;\n    }\n\n    .dataframe tbody tr th {\n        vertical-align: top;\n    }\n\n    .dataframe thead th {\n        text-align: right;\n    }\n</style>\n<table border=\"1\" class=\"dataframe\">\n  <thead>\n    <tr style=\"text-align: right;\">\n      <th></th>\n      <th>X</th>\n      <th>Y</th>\n      <th>FID</th>\n      <th>ActivityNumber</th>\n      <th>District</th>\n      <th>Neighborhood</th>\n      <th>OccurenceStartDate</th>\n      <th>OccurenceEndDate</th>\n      <th>ReportDate</th>\n      <th>OccurenceLocation</th>\n      <th>OccurenceCity</th>\n      <th>ZipCode</th>\n      <th>PrimaryViolation</th>\n      <th>DateTime</th>\n      <th>Year</th>\n      <th>PC</th>\n    </tr>\n  </thead>\n  <tbody>\n    <tr>\n      <th>0</th>\n      <td>1.517236e-04</td>\n      <td>-2.607703e-06</td>\n      <td>2</td>\n      <td>]\\=\"-0092335</td>\n      <td>North Central</td>\n      <td>Carmichael Park</td>\n      <td>2018/03/19 21:30:00</td>\n      <td>2018/03/19 21:59:59</td>\n      <td>2018/03/20 17:00:00</td>\n      <td>5100 Block of Janell</td>\n      <td>Carmichael</td>\n      <td>95608</td>\n      <td>PC 273.5 Inflict Crpl Inj Sp/Cohab</td>\n      <td>2018-03-19 21:30:00</td>\n      <td>2018</td>\n      <td>273.5</td>\n    </tr>\n    <tr>\n      <th>1</th>\n      <td>6.756477e+06</td>\n      <td>1.974923e+06</td>\n      <td>3</td>\n      <td>03/30-0055028</td>\n      <td>East</td>\n      <td>Cordova Meadows</td>\n      <td>2015/03/06 01:11:00</td>\n      <td>2015/03/06 01:11:00</td>\n      <td>2015/03/06 00:00:00</td>\n      <td>10000 Block of Terra</td>\n      <td>Rancho Cordova</td>\n      <td>95670</td>\n      <td>PC 594(B)(2)(A) Vandalism Less Than $400</td>\n      <td>2015-03-06 01:11:00</td>\n      <td>2015</td>\n      <td>594.0</td>\n    </tr>\n    <tr>\n      <th>2</th>\n      <td>6.754609e+06</td>\n      <td>1.968828e+06</td>\n      <td>226871</td>\n      <td>2014-0000030</td>\n      <td>East</td>\n      <td>Lincoln Village</td>\n      <td>2014/01/01 00:14:59</td>\n      <td>2014/01/01 00:14:59</td>\n      <td>2014/01/01 00:42:00</td>\n      <td>3300 Block of Explor</td>\n      <td>Sacramento</td>\n      <td>95827</td>\n      <td>PC 246 Shoot At Inhabited Dwelling/Vehicle/Etc</td>\n      <td>2014-01-01 00:14:59</td>\n      <td>2014</td>\n      <td>246.0</td>\n    </tr>\n    <tr>\n      <th>3</th>\n      <td>6.747809e+06</td>\n      <td>1.969023e+06</td>\n      <td>226872</td>\n      <td>2014-0000031</td>\n      <td>Elk Grove</td>\n      <td>Butterfield</td>\n      <td>2014/01/01 00:27:00</td>\n      <td>2014/01/01 00:27:00</td>\n      <td>2014/01/01 00:30:00</td>\n      <td>9300 Block of Mira D</td>\n      <td>Sacramento</td>\n      <td>95827</td>\n      <td>PC 459 Burglary</td>\n      <td>2014-01-01 00:27:00</td>\n      <td>2014</td>\n      <td>459.0</td>\n    </tr>\n    <tr>\n      <th>4</th>\n      <td>6.728042e+06</td>\n      <td>1.985577e+06</td>\n      <td>226874</td>\n      <td>2014-0000033</td>\n      <td>North Central</td>\n      <td>Bellview</td>\n      <td>2014/01/01 00:24:59</td>\n      <td>2014/01/01 00:27:00</td>\n      <td>2014/01/01 00:48:00</td>\n      <td>2600 Block of Darwin</td>\n      <td>Sacramento</td>\n      <td>95821</td>\n      <td>PC 594(A) Vandalism</td>\n      <td>2014-01-01 00:24:59</td>\n      <td>2014</td>\n      <td>594.0</td>\n    </tr>\n  </tbody>\n</table>\n</div>"
     },
     "metadata": {},
     "execution_count": 4
    }
   ],
   "source": [
    "# Read in the Crimes\n",
    "clean_crime_df = pd.read_csv(\"./Resources/Crime_clean.csv\")\n",
    "clean_personal_crime_df = pd.read_csv(\"./Resources/Crime_Persons_clean.csv\")\n",
    "clean_crime_df.head()"
   ]
  },
  {
   "cell_type": "code",
   "execution_count": 5,
   "metadata": {},
   "outputs": [
    {
     "output_type": "execute_result",
     "data": {
      "text/plain": [
       "                PC\n",
       "Year ZipCode      \n",
       "2014 92345       1\n",
       "     94043       1\n",
       "     94571      16\n",
       "     95501       1\n",
       "     95608    1745\n",
       "...            ...\n",
       "2018 95843     925\n",
       "     95864     520\n",
       "     95949       1\n",
       "     95961       1\n",
       "     95991       1\n",
       "\n",
       "[351 rows x 1 columns]"
      ],
      "text/html": "<div>\n<style scoped>\n    .dataframe tbody tr th:only-of-type {\n        vertical-align: middle;\n    }\n\n    .dataframe tbody tr th {\n        vertical-align: top;\n    }\n\n    .dataframe thead th {\n        text-align: right;\n    }\n</style>\n<table border=\"1\" class=\"dataframe\">\n  <thead>\n    <tr style=\"text-align: right;\">\n      <th></th>\n      <th></th>\n      <th>PC</th>\n    </tr>\n    <tr>\n      <th>Year</th>\n      <th>ZipCode</th>\n      <th></th>\n    </tr>\n  </thead>\n  <tbody>\n    <tr>\n      <th rowspan=\"5\" valign=\"top\">2014</th>\n      <th>92345</th>\n      <td>1</td>\n    </tr>\n    <tr>\n      <th>94043</th>\n      <td>1</td>\n    </tr>\n    <tr>\n      <th>94571</th>\n      <td>16</td>\n    </tr>\n    <tr>\n      <th>95501</th>\n      <td>1</td>\n    </tr>\n    <tr>\n      <th>95608</th>\n      <td>1745</td>\n    </tr>\n    <tr>\n      <th>...</th>\n      <th>...</th>\n      <td>...</td>\n    </tr>\n    <tr>\n      <th rowspan=\"5\" valign=\"top\">2018</th>\n      <th>95843</th>\n      <td>925</td>\n    </tr>\n    <tr>\n      <th>95864</th>\n      <td>520</td>\n    </tr>\n    <tr>\n      <th>95949</th>\n      <td>1</td>\n    </tr>\n    <tr>\n      <th>95961</th>\n      <td>1</td>\n    </tr>\n    <tr>\n      <th>95991</th>\n      <td>1</td>\n    </tr>\n  </tbody>\n</table>\n<p>351 rows × 1 columns</p>\n</div>"
     },
     "metadata": {},
     "execution_count": 5
    }
   ],
   "source": [
    "# Create a new data frame with just the zip codes and the sum of the pc's\n",
    "clean_crime_min_df = pd.DataFrame()\n",
    "clean_crime_min_df[\"PC\"] = clean_crime_df[\"PC\"]\n",
    "clean_crime_min_df[\"Year\"] = clean_crime_df[\"Year\"]\n",
    "clean_crime_min_df[\"ZipCode\"] = clean_crime_df[\"ZipCode\"]\n",
    "clean_crime_min_df.head()\n",
    "clean_crime_sum_group = clean_crime_min_df.groupby([\"Year\", \"ZipCode\"]).count()\n",
    "clean_crime_sum_group"
   ]
  },
  {
   "cell_type": "code",
   "execution_count": 6,
   "metadata": {},
   "outputs": [
    {
     "output_type": "execute_result",
     "data": {
      "text/plain": [
       "               PC\n",
       "Year ZipCode     \n",
       "2014 92345      1\n",
       "     94043      1\n",
       "     94571      2\n",
       "     95501      1\n",
       "     95608    229\n",
       "...           ...\n",
       "2018 95842    311\n",
       "     95843    236\n",
       "     95864     83\n",
       "     95961      1\n",
       "     95991      1\n",
       "\n",
       "[278 rows x 1 columns]"
      ],
      "text/html": "<div>\n<style scoped>\n    .dataframe tbody tr th:only-of-type {\n        vertical-align: middle;\n    }\n\n    .dataframe tbody tr th {\n        vertical-align: top;\n    }\n\n    .dataframe thead th {\n        text-align: right;\n    }\n</style>\n<table border=\"1\" class=\"dataframe\">\n  <thead>\n    <tr style=\"text-align: right;\">\n      <th></th>\n      <th></th>\n      <th>PC</th>\n    </tr>\n    <tr>\n      <th>Year</th>\n      <th>ZipCode</th>\n      <th></th>\n    </tr>\n  </thead>\n  <tbody>\n    <tr>\n      <th rowspan=\"5\" valign=\"top\">2014</th>\n      <th>92345</th>\n      <td>1</td>\n    </tr>\n    <tr>\n      <th>94043</th>\n      <td>1</td>\n    </tr>\n    <tr>\n      <th>94571</th>\n      <td>2</td>\n    </tr>\n    <tr>\n      <th>95501</th>\n      <td>1</td>\n    </tr>\n    <tr>\n      <th>95608</th>\n      <td>229</td>\n    </tr>\n    <tr>\n      <th>...</th>\n      <th>...</th>\n      <td>...</td>\n    </tr>\n    <tr>\n      <th rowspan=\"5\" valign=\"top\">2018</th>\n      <th>95842</th>\n      <td>311</td>\n    </tr>\n    <tr>\n      <th>95843</th>\n      <td>236</td>\n    </tr>\n    <tr>\n      <th>95864</th>\n      <td>83</td>\n    </tr>\n    <tr>\n      <th>95961</th>\n      <td>1</td>\n    </tr>\n    <tr>\n      <th>95991</th>\n      <td>1</td>\n    </tr>\n  </tbody>\n</table>\n<p>278 rows × 1 columns</p>\n</div>"
     },
     "metadata": {},
     "execution_count": 6
    }
   ],
   "source": [
    "# Create a new data frame with just the zip codes and the sum of the pc's\n",
    "clean_crime_personal_min_df = pd.DataFrame()\n",
    "clean_crime_personal_min_df[\"PC\"] = clean_personal_crime_df[\"PC\"]\n",
    "clean_crime_personal_min_df[\"Year\"] = clean_personal_crime_df[\"Year\"]\n",
    "clean_crime_personal_min_df[\"ZipCode\"] = clean_personal_crime_df[\"ZipCode\"]\n",
    "clean_crime_personal_min_df.head()\n",
    "clean_crime_personal_sum_group = clean_crime_personal_min_df.groupby([\"Year\", \"ZipCode\"]).count()\n",
    "clean_crime_personal_sum_group"
   ]
  },
  {
   "cell_type": "code",
   "execution_count": 7,
   "metadata": {},
   "outputs": [
    {
     "output_type": "execute_result",
     "data": {
      "text/plain": [
       "   Year  ZipCode  Population  Poverty Count  Poverty Rate  \\\n",
       "0  2014    95608     60729.0         8301.0         13.67   \n",
       "1  2014    95610     43572.0         7174.0         16.46   \n",
       "2  2014    95621     41474.0         5842.0         14.09   \n",
       "3  2014    95624     63131.0         6848.0         10.85   \n",
       "4  2014    95626      6335.0          792.0         12.50   \n",
       "\n",
       "   Family Poverty Count  Median Household Income  Per Capita Income  \\\n",
       "0                1476.0                  55256.0            34606.0   \n",
       "1                1136.0                  50536.0            25288.0   \n",
       "2                1069.0                  51827.0            24379.0   \n",
       "3                1266.0                  80233.0            29752.0   \n",
       "4                 182.0                  60579.0            22576.0   \n",
       "\n",
       "   Median Home Value  \n",
       "0           304200.0  \n",
       "1           217100.0  \n",
       "2           173700.0  \n",
       "3           270400.0  \n",
       "4           193900.0  "
      ],
      "text/html": "<div>\n<style scoped>\n    .dataframe tbody tr th:only-of-type {\n        vertical-align: middle;\n    }\n\n    .dataframe tbody tr th {\n        vertical-align: top;\n    }\n\n    .dataframe thead th {\n        text-align: right;\n    }\n</style>\n<table border=\"1\" class=\"dataframe\">\n  <thead>\n    <tr style=\"text-align: right;\">\n      <th></th>\n      <th>Year</th>\n      <th>ZipCode</th>\n      <th>Population</th>\n      <th>Poverty Count</th>\n      <th>Poverty Rate</th>\n      <th>Family Poverty Count</th>\n      <th>Median Household Income</th>\n      <th>Per Capita Income</th>\n      <th>Median Home Value</th>\n    </tr>\n  </thead>\n  <tbody>\n    <tr>\n      <th>0</th>\n      <td>2014</td>\n      <td>95608</td>\n      <td>60729.0</td>\n      <td>8301.0</td>\n      <td>13.67</td>\n      <td>1476.0</td>\n      <td>55256.0</td>\n      <td>34606.0</td>\n      <td>304200.0</td>\n    </tr>\n    <tr>\n      <th>1</th>\n      <td>2014</td>\n      <td>95610</td>\n      <td>43572.0</td>\n      <td>7174.0</td>\n      <td>16.46</td>\n      <td>1136.0</td>\n      <td>50536.0</td>\n      <td>25288.0</td>\n      <td>217100.0</td>\n    </tr>\n    <tr>\n      <th>2</th>\n      <td>2014</td>\n      <td>95621</td>\n      <td>41474.0</td>\n      <td>5842.0</td>\n      <td>14.09</td>\n      <td>1069.0</td>\n      <td>51827.0</td>\n      <td>24379.0</td>\n      <td>173700.0</td>\n    </tr>\n    <tr>\n      <th>3</th>\n      <td>2014</td>\n      <td>95624</td>\n      <td>63131.0</td>\n      <td>6848.0</td>\n      <td>10.85</td>\n      <td>1266.0</td>\n      <td>80233.0</td>\n      <td>29752.0</td>\n      <td>270400.0</td>\n    </tr>\n    <tr>\n      <th>4</th>\n      <td>2014</td>\n      <td>95626</td>\n      <td>6335.0</td>\n      <td>792.0</td>\n      <td>12.50</td>\n      <td>182.0</td>\n      <td>60579.0</td>\n      <td>22576.0</td>\n      <td>193900.0</td>\n    </tr>\n  </tbody>\n</table>\n</div>"
     },
     "metadata": {},
     "execution_count": 7
    }
   ],
   "source": [
    "# Read in the Census data\n",
    "census_df = pd.read_csv(\"./Resources/census_output_final.csv\")\n",
    "census_df.head()\n"
   ]
  },
  {
   "cell_type": "code",
   "execution_count": 8,
   "metadata": {},
   "outputs": [
    {
     "output_type": "execute_result",
     "data": {
      "text/plain": [
       "   Year  ZipCode  Population  Poverty Count  Poverty Rate  \\\n",
       "0  2014    95608     60729.0         8301.0         13.67   \n",
       "1  2014    95610     43572.0         7174.0         16.46   \n",
       "2  2014    95621     41474.0         5842.0         14.09   \n",
       "3  2014    95624     63131.0         6848.0         10.85   \n",
       "4  2014    95626      6335.0          792.0         12.50   \n",
       "\n",
       "   Family Poverty Count  Median Household Income  Per Capita Income  \\\n",
       "0                1476.0                  55256.0            34606.0   \n",
       "1                1136.0                  50536.0            25288.0   \n",
       "2                1069.0                  51827.0            24379.0   \n",
       "3                1266.0                  80233.0            29752.0   \n",
       "4                 182.0                  60579.0            22576.0   \n",
       "\n",
       "   Median Home Value      PC  Crime Rate  \n",
       "0           304200.0  1745.0        2.87  \n",
       "1           217100.0     8.0        0.02  \n",
       "2           173700.0    38.0        0.09  \n",
       "3           270400.0     6.0        0.01  \n",
       "4           193900.0    70.0        1.10  "
      ],
      "text/html": "<div>\n<style scoped>\n    .dataframe tbody tr th:only-of-type {\n        vertical-align: middle;\n    }\n\n    .dataframe tbody tr th {\n        vertical-align: top;\n    }\n\n    .dataframe thead th {\n        text-align: right;\n    }\n</style>\n<table border=\"1\" class=\"dataframe\">\n  <thead>\n    <tr style=\"text-align: right;\">\n      <th></th>\n      <th>Year</th>\n      <th>ZipCode</th>\n      <th>Population</th>\n      <th>Poverty Count</th>\n      <th>Poverty Rate</th>\n      <th>Family Poverty Count</th>\n      <th>Median Household Income</th>\n      <th>Per Capita Income</th>\n      <th>Median Home Value</th>\n      <th>PC</th>\n      <th>Crime Rate</th>\n    </tr>\n  </thead>\n  <tbody>\n    <tr>\n      <th>0</th>\n      <td>2014</td>\n      <td>95608</td>\n      <td>60729.0</td>\n      <td>8301.0</td>\n      <td>13.67</td>\n      <td>1476.0</td>\n      <td>55256.0</td>\n      <td>34606.0</td>\n      <td>304200.0</td>\n      <td>1745.0</td>\n      <td>2.87</td>\n    </tr>\n    <tr>\n      <th>1</th>\n      <td>2014</td>\n      <td>95610</td>\n      <td>43572.0</td>\n      <td>7174.0</td>\n      <td>16.46</td>\n      <td>1136.0</td>\n      <td>50536.0</td>\n      <td>25288.0</td>\n      <td>217100.0</td>\n      <td>8.0</td>\n      <td>0.02</td>\n    </tr>\n    <tr>\n      <th>2</th>\n      <td>2014</td>\n      <td>95621</td>\n      <td>41474.0</td>\n      <td>5842.0</td>\n      <td>14.09</td>\n      <td>1069.0</td>\n      <td>51827.0</td>\n      <td>24379.0</td>\n      <td>173700.0</td>\n      <td>38.0</td>\n      <td>0.09</td>\n    </tr>\n    <tr>\n      <th>3</th>\n      <td>2014</td>\n      <td>95624</td>\n      <td>63131.0</td>\n      <td>6848.0</td>\n      <td>10.85</td>\n      <td>1266.0</td>\n      <td>80233.0</td>\n      <td>29752.0</td>\n      <td>270400.0</td>\n      <td>6.0</td>\n      <td>0.01</td>\n    </tr>\n    <tr>\n      <th>4</th>\n      <td>2014</td>\n      <td>95626</td>\n      <td>6335.0</td>\n      <td>792.0</td>\n      <td>12.50</td>\n      <td>182.0</td>\n      <td>60579.0</td>\n      <td>22576.0</td>\n      <td>193900.0</td>\n      <td>70.0</td>\n      <td>1.10</td>\n    </tr>\n  </tbody>\n</table>\n</div>"
     },
     "metadata": {},
     "execution_count": 8
    }
   ],
   "source": [
    "# Merge the crime and the census data\n",
    "merged_all_df = pd.merge(census_df, clean_crime_sum_group, how=\"left\", left_on=[\"Year\", \"ZipCode\"], right_on=[\"Year\", \"ZipCode\"])\n",
    "merged_all_df[\"Crime Rate\"] = (100 * merged_all_df[\"PC\"]/merged_all_df[\"Population\"]).round(2)\n",
    "merged_all_df.fillna(0, inplace=True)\n",
    "merged_all_df.head()"
   ]
  },
  {
   "cell_type": "code",
   "execution_count": 9,
   "metadata": {},
   "outputs": [
    {
     "output_type": "execute_result",
     "data": {
      "text/plain": [
       "     Year  ZipCode  Population  Poverty Count  Poverty Rate  \\\n",
       "0    2014    95608     60729.0         8301.0         13.67   \n",
       "1    2014    95610     43572.0         7174.0         16.46   \n",
       "2    2014    95621     41474.0         5842.0         14.09   \n",
       "3    2014    95624     63131.0         6848.0         10.85   \n",
       "4    2014    95626      6335.0          792.0         12.50   \n",
       "..    ...      ...         ...            ...           ...   \n",
       "240  2018    95838     39187.0         9989.0         25.49   \n",
       "241  2018    95841     20586.0         3964.0         19.26   \n",
       "242  2018    95842     32269.0         7050.0         21.85   \n",
       "243  2018    95843     46709.0         5818.0         12.46   \n",
       "244  2018    95864     23733.0         1720.0          7.25   \n",
       "\n",
       "     Family Poverty Count  Median Household Income  Per Capita Income  \\\n",
       "0                  1476.0                  55256.0            34606.0   \n",
       "1                  1136.0                  50536.0            25288.0   \n",
       "2                  1069.0                  51827.0            24379.0   \n",
       "3                  1266.0                  80233.0            29752.0   \n",
       "4                   182.0                  60579.0            22576.0   \n",
       "..                    ...                      ...                ...   \n",
       "240                1847.0                  44849.0            17299.0   \n",
       "241                 885.0                  47215.0            25167.0   \n",
       "242                1386.0                  50412.0            22419.0   \n",
       "243                1248.0                  78102.0            27488.0   \n",
       "244                 257.0                 101446.0            60946.0   \n",
       "\n",
       "     Median Home Value     PC  Crime Rate  \n",
       "0             304200.0  229.0        0.38  \n",
       "1             217100.0    2.0        0.00  \n",
       "2             173700.0   10.0        0.02  \n",
       "3             270400.0    0.0        0.00  \n",
       "4             193900.0    5.0        0.08  \n",
       "..                 ...    ...         ...  \n",
       "240           201900.0    2.0        0.01  \n",
       "241           233300.0  234.0        1.14  \n",
       "242           222300.0  311.0        0.96  \n",
       "243           299900.0  236.0        0.51  \n",
       "244           562600.0   83.0        0.35  \n",
       "\n",
       "[245 rows x 11 columns]"
      ],
      "text/html": "<div>\n<style scoped>\n    .dataframe tbody tr th:only-of-type {\n        vertical-align: middle;\n    }\n\n    .dataframe tbody tr th {\n        vertical-align: top;\n    }\n\n    .dataframe thead th {\n        text-align: right;\n    }\n</style>\n<table border=\"1\" class=\"dataframe\">\n  <thead>\n    <tr style=\"text-align: right;\">\n      <th></th>\n      <th>Year</th>\n      <th>ZipCode</th>\n      <th>Population</th>\n      <th>Poverty Count</th>\n      <th>Poverty Rate</th>\n      <th>Family Poverty Count</th>\n      <th>Median Household Income</th>\n      <th>Per Capita Income</th>\n      <th>Median Home Value</th>\n      <th>PC</th>\n      <th>Crime Rate</th>\n    </tr>\n  </thead>\n  <tbody>\n    <tr>\n      <th>0</th>\n      <td>2014</td>\n      <td>95608</td>\n      <td>60729.0</td>\n      <td>8301.0</td>\n      <td>13.67</td>\n      <td>1476.0</td>\n      <td>55256.0</td>\n      <td>34606.0</td>\n      <td>304200.0</td>\n      <td>229.0</td>\n      <td>0.38</td>\n    </tr>\n    <tr>\n      <th>1</th>\n      <td>2014</td>\n      <td>95610</td>\n      <td>43572.0</td>\n      <td>7174.0</td>\n      <td>16.46</td>\n      <td>1136.0</td>\n      <td>50536.0</td>\n      <td>25288.0</td>\n      <td>217100.0</td>\n      <td>2.0</td>\n      <td>0.00</td>\n    </tr>\n    <tr>\n      <th>2</th>\n      <td>2014</td>\n      <td>95621</td>\n      <td>41474.0</td>\n      <td>5842.0</td>\n      <td>14.09</td>\n      <td>1069.0</td>\n      <td>51827.0</td>\n      <td>24379.0</td>\n      <td>173700.0</td>\n      <td>10.0</td>\n      <td>0.02</td>\n    </tr>\n    <tr>\n      <th>3</th>\n      <td>2014</td>\n      <td>95624</td>\n      <td>63131.0</td>\n      <td>6848.0</td>\n      <td>10.85</td>\n      <td>1266.0</td>\n      <td>80233.0</td>\n      <td>29752.0</td>\n      <td>270400.0</td>\n      <td>0.0</td>\n      <td>0.00</td>\n    </tr>\n    <tr>\n      <th>4</th>\n      <td>2014</td>\n      <td>95626</td>\n      <td>6335.0</td>\n      <td>792.0</td>\n      <td>12.50</td>\n      <td>182.0</td>\n      <td>60579.0</td>\n      <td>22576.0</td>\n      <td>193900.0</td>\n      <td>5.0</td>\n      <td>0.08</td>\n    </tr>\n    <tr>\n      <th>...</th>\n      <td>...</td>\n      <td>...</td>\n      <td>...</td>\n      <td>...</td>\n      <td>...</td>\n      <td>...</td>\n      <td>...</td>\n      <td>...</td>\n      <td>...</td>\n      <td>...</td>\n      <td>...</td>\n    </tr>\n    <tr>\n      <th>240</th>\n      <td>2018</td>\n      <td>95838</td>\n      <td>39187.0</td>\n      <td>9989.0</td>\n      <td>25.49</td>\n      <td>1847.0</td>\n      <td>44849.0</td>\n      <td>17299.0</td>\n      <td>201900.0</td>\n      <td>2.0</td>\n      <td>0.01</td>\n    </tr>\n    <tr>\n      <th>241</th>\n      <td>2018</td>\n      <td>95841</td>\n      <td>20586.0</td>\n      <td>3964.0</td>\n      <td>19.26</td>\n      <td>885.0</td>\n      <td>47215.0</td>\n      <td>25167.0</td>\n      <td>233300.0</td>\n      <td>234.0</td>\n      <td>1.14</td>\n    </tr>\n    <tr>\n      <th>242</th>\n      <td>2018</td>\n      <td>95842</td>\n      <td>32269.0</td>\n      <td>7050.0</td>\n      <td>21.85</td>\n      <td>1386.0</td>\n      <td>50412.0</td>\n      <td>22419.0</td>\n      <td>222300.0</td>\n      <td>311.0</td>\n      <td>0.96</td>\n    </tr>\n    <tr>\n      <th>243</th>\n      <td>2018</td>\n      <td>95843</td>\n      <td>46709.0</td>\n      <td>5818.0</td>\n      <td>12.46</td>\n      <td>1248.0</td>\n      <td>78102.0</td>\n      <td>27488.0</td>\n      <td>299900.0</td>\n      <td>236.0</td>\n      <td>0.51</td>\n    </tr>\n    <tr>\n      <th>244</th>\n      <td>2018</td>\n      <td>95864</td>\n      <td>23733.0</td>\n      <td>1720.0</td>\n      <td>7.25</td>\n      <td>257.0</td>\n      <td>101446.0</td>\n      <td>60946.0</td>\n      <td>562600.0</td>\n      <td>83.0</td>\n      <td>0.35</td>\n    </tr>\n  </tbody>\n</table>\n<p>245 rows × 11 columns</p>\n</div>"
     },
     "metadata": {},
     "execution_count": 9
    }
   ],
   "source": [
    "# Merge the crime and the census data\n",
    "merged_personal_df = pd.merge(census_df, clean_crime_personal_sum_group, how=\"left\", left_on=[\"Year\", \"ZipCode\"], right_on=[\"Year\", \"ZipCode\"])\n",
    "merged_personal_df[\"Crime Rate\"] = (100 * merged_personal_df[\"PC\"]/merged_personal_df[\"Population\"]).round(2)\n",
    "merged_personal_df.fillna(0, inplace=True)\n",
    "merged_personal_df"
   ]
  },
  {
   "cell_type": "code",
   "execution_count": 10,
   "metadata": {},
   "outputs": [],
   "source": [
    "# Write out the Data Frames\n",
    "merged_all_df.to_csv(\"./Resources/merged_all_df.csv\")\n",
    "merged_personal_df.to_csv(\"./Resources/merged_personal_df.csv\")"
   ]
  },
  {
   "cell_type": "code",
   "execution_count": null,
   "metadata": {},
   "outputs": [],
   "source": []
  }
 ]
}