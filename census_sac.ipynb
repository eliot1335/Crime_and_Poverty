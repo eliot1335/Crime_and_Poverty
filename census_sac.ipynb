{
 "metadata": {
  "language_info": {
   "codemirror_mode": {
    "name": "ipython",
    "version": 3
   },
   "file_extension": ".py",
   "mimetype": "text/x-python",
   "name": "python",
   "nbconvert_exporter": "python",
   "pygments_lexer": "ipython3",
   "version": "3.8.3-final"
  },
  "orig_nbformat": 2,
  "kernelspec": {
   "name": "python3",
   "display_name": "Python 3.8.3 64-bit ('datavispip': conda)",
   "metadata": {
    "interpreter": {
     "hash": "c8ca10ecc8471ee9f0677057683f87ff47ab794b3f9adc34523f957990c0d05f"
    }
   }
  }
 },
 "nbformat": 4,
 "nbformat_minor": 2,
 "cells": [
  {
   "cell_type": "code",
   "execution_count": null,
   "metadata": {},
   "outputs": [],
   "source": [
    "# Median Household Income\n",
    "# \"B19013_001E\"\n",
    "# Median household income in the past 12 months\n",
    "\n",
    "# Income Per Capita\n",
    "# \"B19301_001E\"\n",
    "# Per capita income in the past 12 months\n",
    "\n",
    "# Poverty Count\n",
    "# \"B17001_002E\"\n",
    "# Number of persons whose income in the past 12 months is below the poverty level\n",
    "\n",
    "# Family Poverty Count\n",
    "# \"B17012_002E\"\n",
    "# Number of families below the poverty level in the past 12 months\n",
    "\n",
    "# Population\n",
    "# \"B01003_001E\"\n",
    "# Total population\n",
    "\n",
    "# Median Home Value\n",
    "# \"B25077_001E\"\n",
    "# average value of an owner-occupied home"
   ]
  },
  {
   "cell_type": "code",
   "execution_count": null,
   "metadata": {},
   "outputs": [],
   "source": [
    "# Dependencies\n",
    "import numpy as np\n",
    "import pandas as pd\n",
    "import matplotlib.pyplot as plt\n",
    "import requests\n",
    "from census import Census\n",
    "\n",
    "# Census API Key\n",
    "from config import api_key\n"
   ]
  },
  {
   "cell_type": "code",
   "execution_count": null,
   "metadata": {},
   "outputs": [],
   "source": [
    "zip_csv = \"./Resources/ZipCode.csv\"\n",
    "zip_df = pd.read_csv(zip_csv)\n",
    "zip_df"
   ]
  },
  {
   "cell_type": "code",
   "execution_count": null,
   "metadata": {},
   "outputs": [],
   "source": [
    "# Make an empty dictionary to hold the dfs\n",
    "census_output = {}\n",
    "\n",
    "# Make a for loop\n",
    "for data_year, suffix in zip([2016, 2017, 2018], [\"a\", \"b\", \"c\"]):\n",
    "    census_data = Census(api_key, year= data_year).acs5.get((\"NAME\", \"B19013_001E\", \"B19301_001E\", \"B17001_002E\",\n",
    "                          \"B17012_002E\", \"B01003_001E\", \"B25077_001E\"), {'for': 'zip code tabulation area:*'})\n",
    "# Convert to DataFrame\n",
    "    census_pd = pd.DataFrame(census_data)\n",
    "\n",
    "# Column Reordering\n",
    "    census_pd = census_pd.rename(columns={\n",
    "        \"B01003_001E\": \"Population\", \n",
    "        \"B17001_002E\": \"Poverty Count\", \n",
    "        \"B17012_002E\": \"Family Poverty Count\",\n",
    "        \"B19013_001E\": \"Median Household Income\", \n",
    "        \"B19301_001E\": \"Per Capita Income\", \n",
    "        \"B25077_001E\": \"Median Home Value\",\n",
    "        \"NAME\": \"Name\", \"zip code tabulation area\": \"Zipcode\"})\n",
    "\n",
    "    census_pd[\"Year\"] = data_year\n",
    "\n",
    "# Add in Poverty Rate (Poverty Count / Population)\n",
    "    census_pd[\"Poverty Rate\"] = (100 * census_pd[\"Poverty Count\"].astype(float) / census_pd[\"Population\"].astype(float)).round(2)\n",
    "\n",
    "# Final DataFrame\n",
    "    census_pd = census_pd[[\n",
    "        \"Year\",\n",
    "        \"Zipcode\", \n",
    "        \"Population\", \n",
    "        \"Poverty Count\", \n",
    "        \"Poverty Rate\", \n",
    "        \"Family Poverty Count\", \n",
    "        \"Median Household Income\", \n",
    "        \"Per Capita Income\", \n",
    "        \"Median Home Value\"]]\n",
    "\n",
    "# Filter Zipcode: limited to Sac County\n",
    "    census_sac = census_pd[census_pd[\"Zipcode\"].isin([\n",
    "    \"95608\", \"95610\", \"95615\", \"95621\", \"95624\", \"95626\", \"95628\", \"95630\", \"95632\", \"95638\", \n",
    "    \"95639\", \"95641\", \"95652\", \"95655\", \"95660\", \"95662\", \"95670\", \"95673\", \"95680\", \"95683\",\n",
    "    \"95690\", \"95693\", \"95742\", \"95757\", \"95758\", \"95811\", \"95814\", \"95815\", \"95816\", \"95817\",\n",
    "    \"95818\", \"95819\", \"95820\", \"95821\", \"95822\", \"95823\", \"95824\", \"95825\", \"95826\", \"95827\",\n",
    "    \"95828\", \"95829\", \"95830\", \"95831\", \"95832\", \"95833\", \"95834\", \"95835\", \"95837\", \"95838\", \n",
    "    \"95841\", \"95842\", \"95843\", \"95864\"])]\n",
    "\n",
    "# Drop bad data\n",
    "# (Removed 95652, 95680)\n",
    "    census_sac = census_sac.dropna(how='any')\n",
    "    census_sac = census_sac.loc[(census_sac[\"Median Home Value\"] > -666666666)]\n",
    "    census_sac = census_sac.loc[(census_sac[\"Median Household Income\"] > -666666666)]\n",
    "\n",
    "    census_output[suffix] = census_sac\n",
    "\n",
    "\n",
    "# output_dfs = {}\n",
    "   \n",
    "census_output[\"a\"]\n"
   ]
  },
  {
   "cell_type": "code",
   "execution_count": 62,
   "metadata": {},
   "outputs": [],
   "source": [
    "census_output_final = pd.concat([census_output[\"a\"], census_output[\"b\"], census_output[\"c\"]])"
   ]
  },
  {
   "cell_type": "code",
   "execution_count": 63,
   "metadata": {},
   "outputs": [
    {
     "output_type": "execute_result",
     "data": {
      "text/plain": [
       "       Year Zipcode  Population  Poverty Count  Poverty Rate  \\\n",
       "13504  2016   95608     60199.0         8680.0         14.42   \n",
       "13505  2016   95610     44711.0         6767.0         15.13   \n",
       "13508  2016   95615       970.0          197.0         20.31   \n",
       "13513  2016   95621     41908.0         5809.0         13.86   \n",
       "13515  2016   95624     64429.0         6571.0         10.20   \n",
       "...     ...     ...         ...            ...           ...   \n",
       "31255  2018   95838     39187.0         9989.0         25.49   \n",
       "31256  2018   95841     20586.0         3964.0         19.26   \n",
       "31257  2018   95842     32269.0         7050.0         21.85   \n",
       "31258  2018   95843     46709.0         5818.0         12.46   \n",
       "31259  2018   95864     23733.0         1720.0          7.25   \n",
       "\n",
       "       Family Poverty Count  Median Household Income  Per Capita Income  \\\n",
       "13504                1392.0                  56891.0            36796.0   \n",
       "13505                1075.0                  51271.0            25814.0   \n",
       "13508                   0.0                  66080.0            26284.0   \n",
       "13513                 986.0                  52462.0            25123.0   \n",
       "13515                1310.0                  84854.0            32386.0   \n",
       "...                     ...                      ...                ...   \n",
       "31255                1847.0                  44849.0            17299.0   \n",
       "31256                 885.0                  47215.0            25167.0   \n",
       "31257                1386.0                  50412.0            22419.0   \n",
       "31258                1248.0                  78102.0            27488.0   \n",
       "31259                 257.0                 101446.0            60946.0   \n",
       "\n",
       "       Median Home Value  \n",
       "13504           331500.0  \n",
       "13505           248000.0  \n",
       "13508           309600.0  \n",
       "13513           196200.0  \n",
       "13515           318900.0  \n",
       "...                  ...  \n",
       "31255           201900.0  \n",
       "31256           233300.0  \n",
       "31257           222300.0  \n",
       "31258           299900.0  \n",
       "31259           562600.0  \n",
       "\n",
       "[155 rows x 9 columns]"
      ],
      "text/html": "<div>\n<style scoped>\n    .dataframe tbody tr th:only-of-type {\n        vertical-align: middle;\n    }\n\n    .dataframe tbody tr th {\n        vertical-align: top;\n    }\n\n    .dataframe thead th {\n        text-align: right;\n    }\n</style>\n<table border=\"1\" class=\"dataframe\">\n  <thead>\n    <tr style=\"text-align: right;\">\n      <th></th>\n      <th>Year</th>\n      <th>Zipcode</th>\n      <th>Population</th>\n      <th>Poverty Count</th>\n      <th>Poverty Rate</th>\n      <th>Family Poverty Count</th>\n      <th>Median Household Income</th>\n      <th>Per Capita Income</th>\n      <th>Median Home Value</th>\n    </tr>\n  </thead>\n  <tbody>\n    <tr>\n      <th>13504</th>\n      <td>2016</td>\n      <td>95608</td>\n      <td>60199.0</td>\n      <td>8680.0</td>\n      <td>14.42</td>\n      <td>1392.0</td>\n      <td>56891.0</td>\n      <td>36796.0</td>\n      <td>331500.0</td>\n    </tr>\n    <tr>\n      <th>13505</th>\n      <td>2016</td>\n      <td>95610</td>\n      <td>44711.0</td>\n      <td>6767.0</td>\n      <td>15.13</td>\n      <td>1075.0</td>\n      <td>51271.0</td>\n      <td>25814.0</td>\n      <td>248000.0</td>\n    </tr>\n    <tr>\n      <th>13508</th>\n      <td>2016</td>\n      <td>95615</td>\n      <td>970.0</td>\n      <td>197.0</td>\n      <td>20.31</td>\n      <td>0.0</td>\n      <td>66080.0</td>\n      <td>26284.0</td>\n      <td>309600.0</td>\n    </tr>\n    <tr>\n      <th>13513</th>\n      <td>2016</td>\n      <td>95621</td>\n      <td>41908.0</td>\n      <td>5809.0</td>\n      <td>13.86</td>\n      <td>986.0</td>\n      <td>52462.0</td>\n      <td>25123.0</td>\n      <td>196200.0</td>\n    </tr>\n    <tr>\n      <th>13515</th>\n      <td>2016</td>\n      <td>95624</td>\n      <td>64429.0</td>\n      <td>6571.0</td>\n      <td>10.20</td>\n      <td>1310.0</td>\n      <td>84854.0</td>\n      <td>32386.0</td>\n      <td>318900.0</td>\n    </tr>\n    <tr>\n      <th>...</th>\n      <td>...</td>\n      <td>...</td>\n      <td>...</td>\n      <td>...</td>\n      <td>...</td>\n      <td>...</td>\n      <td>...</td>\n      <td>...</td>\n      <td>...</td>\n    </tr>\n    <tr>\n      <th>31255</th>\n      <td>2018</td>\n      <td>95838</td>\n      <td>39187.0</td>\n      <td>9989.0</td>\n      <td>25.49</td>\n      <td>1847.0</td>\n      <td>44849.0</td>\n      <td>17299.0</td>\n      <td>201900.0</td>\n    </tr>\n    <tr>\n      <th>31256</th>\n      <td>2018</td>\n      <td>95841</td>\n      <td>20586.0</td>\n      <td>3964.0</td>\n      <td>19.26</td>\n      <td>885.0</td>\n      <td>47215.0</td>\n      <td>25167.0</td>\n      <td>233300.0</td>\n    </tr>\n    <tr>\n      <th>31257</th>\n      <td>2018</td>\n      <td>95842</td>\n      <td>32269.0</td>\n      <td>7050.0</td>\n      <td>21.85</td>\n      <td>1386.0</td>\n      <td>50412.0</td>\n      <td>22419.0</td>\n      <td>222300.0</td>\n    </tr>\n    <tr>\n      <th>31258</th>\n      <td>2018</td>\n      <td>95843</td>\n      <td>46709.0</td>\n      <td>5818.0</td>\n      <td>12.46</td>\n      <td>1248.0</td>\n      <td>78102.0</td>\n      <td>27488.0</td>\n      <td>299900.0</td>\n    </tr>\n    <tr>\n      <th>31259</th>\n      <td>2018</td>\n      <td>95864</td>\n      <td>23733.0</td>\n      <td>1720.0</td>\n      <td>7.25</td>\n      <td>257.0</td>\n      <td>101446.0</td>\n      <td>60946.0</td>\n      <td>562600.0</td>\n    </tr>\n  </tbody>\n</table>\n<p>155 rows × 9 columns</p>\n</div>"
     },
     "metadata": {},
     "execution_count": 63
    }
   ],
   "source": [
    "census_output_final"
   ]
  },
  {
   "cell_type": "code",
   "execution_count": 65,
   "metadata": {},
   "outputs": [],
   "source": [
    "census_output_final.to_csv(\"./Resources/census_output_final.csv\", encoding=\"utf-8\", index=False)"
   ]
  },
  {
   "cell_type": "code",
   "execution_count": null,
   "metadata": {},
   "outputs": [],
   "source": [
    "# import numpy as np\n",
    "# import matplotlib.pyplot as plt\n",
    "# # set width of bar\n",
    "# barWidth = 0.25\n",
    "# # set height of bar\n",
    "# bars1 = [12, 30, 1, 8, 22]\n",
    "# bars2 = [28, 6, 16, 5, 10]\n",
    "# bars3 = [29, 3, 24, 25, 17]\n",
    "# # Set position of bar on X axis\n",
    "# r1 = np.arange(len(bars1))\n",
    "# r2 = [x + barWidth for x in r1]\n",
    "# r3 = [x + barWidth for x in r2]\n",
    "# # Make the plot\n",
    "# plt.bar(r1, bars1, color='#7F6D5F', width=barWidth, edgecolor='white', label='var1')\n",
    "# plt.bar(r2, bars2, color='#557F2D', width=barWidth, edgecolor='white', label='var2')\n",
    "# plt.bar(r3, bars3, color='#2D7F5E', width=barWidth, edgecolor='white', label='var3')\n",
    "# # Look at a multiline plot to mix bar\n",
    "# plt.plot(['A', 'B', 'C', 'D', 'E'],[29, 3, 24, 25, 17])\n",
    "# # Add xticks on the middle of the group bars\n",
    "# plt.xlabel('group', fontweight='bold')\n",
    "# plt.xticks([r + barWidth for r in range(len(bars1))], ['A', 'B', 'C', 'D', 'E'])\n",
    "# # Create legend & Show graphic\n",
    "# plt.legend()\n",
    "# plt.show()"
   ]
  }
 ]
}